{
  "cells": [
    {
      "cell_type": "code",
      "execution_count": 2,
      "metadata": {
        "colab": {
          "base_uri": "https://localhost:8080/"
        },
        "id": "qwpPDTclsSh6",
        "outputId": "e3c7ad92-2d66-499c-c690-4175fbfaf42f"
      },
      "outputs": [
        {
          "output_type": "stream",
          "name": "stdout",
          "text": [
            "Training data shape: (24034, 500)\n",
            "Validation data shape: (6009, 500)\n",
            "Test data shape: (7511, 500)\n",
            "Training data class distribution:\n",
            "bias_text_encoded\n",
            "2    8789\n",
            "1    8323\n",
            "0    6922\n",
            "Name: count, dtype: int64\n"
          ]
        }
      ],
      "source": [
        "import pandas as pd\n",
        "import os\n",
        "import numpy as np\n",
        "import string\n",
        "from tensorflow import keras\n",
        "from tensorflow.keras.preprocessing.text import Tokenizer\n",
        "from tensorflow.keras.preprocessing.sequence import pad_sequences\n",
        "from tensorflow.keras.models import Sequential\n",
        "from tensorflow.keras.layers import Embedding, LSTM, Dense, Dropout\n",
        "from tensorflow.keras.callbacks import EarlyStopping\n",
        "from sklearn.model_selection import train_test_split\n",
        "from sklearn.preprocessing import LabelEncoder\n",
        "from imblearn.under_sampling import RandomUnderSampler\n",
        "\n",
        "# Suppress TensorFlow logging\n",
        "os.environ['TF_CPP_MIN_LOG_LEVEL'] = '2'\n",
        "\n",
        "# Load data\n",
        "data = pd.read_csv(\"/content/drive/MyDrive/LSTM/output.csv\")\n",
        "\n",
        "data['input_text'] = data['title'] + \" - \" + data['content_original']\n",
        "data = data.dropna(subset=['input_text'])\n",
        "\n",
        "def preprocess_text(text):\n",
        "    text = text.lower()  # Convert text to lowercase\n",
        "    text = text.translate(str.maketrans('', '', string.punctuation))  # Remove punctuation\n",
        "    return text\n",
        "\n",
        "data['input_text'] = data['input_text'].apply(preprocess_text)\n",
        "\n",
        "# Encode labels (bias_text)\n",
        "label_encoder = LabelEncoder()\n",
        "data['bias_text_encoded'] = label_encoder.fit_transform(data['bias_text'])\n",
        "\n",
        "# Split into train + validation and test sets (80% train + val, 20% test)\n",
        "X_train_val, X_test, y_train_val, y_test = train_test_split(\n",
        "    data['input_text'],\n",
        "    data['bias_text_encoded'],\n",
        "    test_size=0.2,\n",
        "    random_state=123,\n",
        "    stratify=data['bias_text_encoded']\n",
        ")\n",
        "\n",
        "# Split train + validation into separate train and validation sets\n",
        "X_train, X_val, y_train, y_val = train_test_split(\n",
        "    X_train_val,\n",
        "    y_train_val,\n",
        "    test_size=0.2,  # 0.2 of 80% = 16% of total data, 64% for train, 16% for validation\n",
        "    random_state=123,\n",
        "    stratify=y_train_val\n",
        ")\n",
        "\n",
        "# Tokenize the text data\n",
        "max_words = 30000\n",
        "max_len = 500\n",
        "\n",
        "tokenizer = Tokenizer(num_words=max_words)\n",
        "tokenizer.fit_on_texts(X_train)\n",
        "\n",
        "X_train_seq = tokenizer.texts_to_sequences(X_train)\n",
        "X_val_seq = tokenizer.texts_to_sequences(X_val)\n",
        "X_test_seq = tokenizer.texts_to_sequences(X_test)\n",
        "\n",
        "X_train_pad = pad_sequences(X_train_seq, maxlen=max_len)\n",
        "X_val_pad = pad_sequences(X_val_seq, maxlen=max_len)\n",
        "X_test_pad = pad_sequences(X_test_seq, maxlen=max_len)\n",
        "\n",
        "print(f\"Training data shape: {X_train_pad.shape}\")\n",
        "print(f\"Validation data shape: {X_val_pad.shape}\")\n",
        "print(f\"Test data shape: {X_test_pad.shape}\")\n",
        "\n",
        "print(\"Training data class distribution:\")\n",
        "print(pd.Series(y_train).value_counts())"
      ]
    },
    {
      "cell_type": "code",
      "execution_count": 5,
      "metadata": {
        "colab": {
          "base_uri": "https://localhost:8080/"
        },
        "id": "Zm4T-6S9sXk4",
        "outputId": "e4269c96-d7cd-40f7-b19d-4fd868e1b31e"
      },
      "outputs": [
        {
          "output_type": "stream",
          "name": "stdout",
          "text": [
            "Embedding matrix shape: (30001, 100)\n"
          ]
        }
      ],
      "source": [
        "import numpy as np\n",
        "\n",
        "# Load GloVe embeddings\n",
        "def load_glove_embeddings(glove_file, embedding_dim=100):\n",
        "    embeddings_index = {}\n",
        "    with open(glove_file, 'r', encoding='utf-8') as f:\n",
        "        for line in f:\n",
        "            values = line.split()\n",
        "            word = values[0]\n",
        "            coefs = np.asarray(values[1:], dtype='float32')\n",
        "            embeddings_index[word] = coefs\n",
        "    return embeddings_index\n",
        "\n",
        "glove_file = '/content/drive/MyDrive/LSTM/glove.6B.100d.txt'\n",
        "\n",
        "embeddings_index = load_glove_embeddings(glove_file, embedding_dim=100)\n",
        "\n",
        "embedding_matrix = np.zeros((max_words + 1, 100))  # Shape: (max_words + 1, embedding_dim)\n",
        "for word, i in tokenizer.word_index.items():\n",
        "\n",
        "    if i < max_words:\n",
        "        embedding_vector = embeddings_index.get(word)\n",
        "        if embedding_vector is not None:\n",
        "            embedding_matrix[i] = embedding_vector\n",
        "        else:\n",
        "            # Initialize missing words with random values\n",
        "            embedding_matrix[i] = np.random.randn(100)\n",
        "\n",
        "# Add a zero vector for the padding token (index 0)\n",
        "embedding_matrix[0] = np.zeros(100)\n",
        "\n",
        "print(f\"Embedding matrix shape: {embedding_matrix.shape}\")"
      ]
    },
    {
      "cell_type": "code",
      "execution_count": 6,
      "metadata": {
        "colab": {
          "base_uri": "https://localhost:8080/",
          "height": 371
        },
        "id": "t-HLfuveszD5",
        "outputId": "823eb276-529a-45e8-f838-72da9aaceed0"
      },
      "outputs": [
        {
          "output_type": "display_data",
          "data": {
            "text/plain": [
              "\u001b[1mModel: \"sequential\"\u001b[0m\n"
            ],
            "text/html": [
              "<pre style=\"white-space:pre;overflow-x:auto;line-height:normal;font-family:Menlo,'DejaVu Sans Mono',consolas,'Courier New',monospace\"><span style=\"font-weight: bold\">Model: \"sequential\"</span>\n",
              "</pre>\n"
            ]
          },
          "metadata": {}
        },
        {
          "output_type": "display_data",
          "data": {
            "text/plain": [
              "┏━━━━━━━━━━━━━━━━━━━━━━━━━━━━━━━━━━━━━━┳━━━━━━━━━━━━━━━━━━━━━━━━━━━━━┳━━━━━━━━━━━━━━━━━┓\n",
              "┃\u001b[1m \u001b[0m\u001b[1mLayer (type)                        \u001b[0m\u001b[1m \u001b[0m┃\u001b[1m \u001b[0m\u001b[1mOutput Shape               \u001b[0m\u001b[1m \u001b[0m┃\u001b[1m \u001b[0m\u001b[1m        Param #\u001b[0m\u001b[1m \u001b[0m┃\n",
              "┡━━━━━━━━━━━━━━━━━━━━━━━━━━━━━━━━━━━━━━╇━━━━━━━━━━━━━━━━━━━━━━━━━━━━━╇━━━━━━━━━━━━━━━━━┩\n",
              "│ embedding (\u001b[38;5;33mEmbedding\u001b[0m)                │ ?                           │       \u001b[38;5;34m3,000,100\u001b[0m │\n",
              "├──────────────────────────────────────┼─────────────────────────────┼─────────────────┤\n",
              "│ bidirectional (\u001b[38;5;33mBidirectional\u001b[0m)        │ ?                           │     \u001b[38;5;34m0\u001b[0m (unbuilt) │\n",
              "├──────────────────────────────────────┼─────────────────────────────┼─────────────────┤\n",
              "│ global_average_pooling1d             │ ?                           │     \u001b[38;5;34m0\u001b[0m (unbuilt) │\n",
              "│ (\u001b[38;5;33mGlobalAveragePooling1D\u001b[0m)             │                             │                 │\n",
              "├──────────────────────────────────────┼─────────────────────────────┼─────────────────┤\n",
              "│ dropout (\u001b[38;5;33mDropout\u001b[0m)                    │ ?                           │     \u001b[38;5;34m0\u001b[0m (unbuilt) │\n",
              "├──────────────────────────────────────┼─────────────────────────────┼─────────────────┤\n",
              "│ dense (\u001b[38;5;33mDense\u001b[0m)                        │ ?                           │     \u001b[38;5;34m0\u001b[0m (unbuilt) │\n",
              "├──────────────────────────────────────┼─────────────────────────────┼─────────────────┤\n",
              "│ dropout_1 (\u001b[38;5;33mDropout\u001b[0m)                  │ ?                           │     \u001b[38;5;34m0\u001b[0m (unbuilt) │\n",
              "├──────────────────────────────────────┼─────────────────────────────┼─────────────────┤\n",
              "│ dense_1 (\u001b[38;5;33mDense\u001b[0m)                      │ ?                           │     \u001b[38;5;34m0\u001b[0m (unbuilt) │\n",
              "└──────────────────────────────────────┴─────────────────────────────┴─────────────────┘\n"
            ],
            "text/html": [
              "<pre style=\"white-space:pre;overflow-x:auto;line-height:normal;font-family:Menlo,'DejaVu Sans Mono',consolas,'Courier New',monospace\">┏━━━━━━━━━━━━━━━━━━━━━━━━━━━━━━━━━━━━━━┳━━━━━━━━━━━━━━━━━━━━━━━━━━━━━┳━━━━━━━━━━━━━━━━━┓\n",
              "┃<span style=\"font-weight: bold\"> Layer (type)                         </span>┃<span style=\"font-weight: bold\"> Output Shape                </span>┃<span style=\"font-weight: bold\">         Param # </span>┃\n",
              "┡━━━━━━━━━━━━━━━━━━━━━━━━━━━━━━━━━━━━━━╇━━━━━━━━━━━━━━━━━━━━━━━━━━━━━╇━━━━━━━━━━━━━━━━━┩\n",
              "│ embedding (<span style=\"color: #0087ff; text-decoration-color: #0087ff\">Embedding</span>)                │ ?                           │       <span style=\"color: #00af00; text-decoration-color: #00af00\">3,000,100</span> │\n",
              "├──────────────────────────────────────┼─────────────────────────────┼─────────────────┤\n",
              "│ bidirectional (<span style=\"color: #0087ff; text-decoration-color: #0087ff\">Bidirectional</span>)        │ ?                           │     <span style=\"color: #00af00; text-decoration-color: #00af00\">0</span> (unbuilt) │\n",
              "├──────────────────────────────────────┼─────────────────────────────┼─────────────────┤\n",
              "│ global_average_pooling1d             │ ?                           │     <span style=\"color: #00af00; text-decoration-color: #00af00\">0</span> (unbuilt) │\n",
              "│ (<span style=\"color: #0087ff; text-decoration-color: #0087ff\">GlobalAveragePooling1D</span>)             │                             │                 │\n",
              "├──────────────────────────────────────┼─────────────────────────────┼─────────────────┤\n",
              "│ dropout (<span style=\"color: #0087ff; text-decoration-color: #0087ff\">Dropout</span>)                    │ ?                           │     <span style=\"color: #00af00; text-decoration-color: #00af00\">0</span> (unbuilt) │\n",
              "├──────────────────────────────────────┼─────────────────────────────┼─────────────────┤\n",
              "│ dense (<span style=\"color: #0087ff; text-decoration-color: #0087ff\">Dense</span>)                        │ ?                           │     <span style=\"color: #00af00; text-decoration-color: #00af00\">0</span> (unbuilt) │\n",
              "├──────────────────────────────────────┼─────────────────────────────┼─────────────────┤\n",
              "│ dropout_1 (<span style=\"color: #0087ff; text-decoration-color: #0087ff\">Dropout</span>)                  │ ?                           │     <span style=\"color: #00af00; text-decoration-color: #00af00\">0</span> (unbuilt) │\n",
              "├──────────────────────────────────────┼─────────────────────────────┼─────────────────┤\n",
              "│ dense_1 (<span style=\"color: #0087ff; text-decoration-color: #0087ff\">Dense</span>)                      │ ?                           │     <span style=\"color: #00af00; text-decoration-color: #00af00\">0</span> (unbuilt) │\n",
              "└──────────────────────────────────────┴─────────────────────────────┴─────────────────┘\n",
              "</pre>\n"
            ]
          },
          "metadata": {}
        },
        {
          "output_type": "display_data",
          "data": {
            "text/plain": [
              "\u001b[1m Total params: \u001b[0m\u001b[38;5;34m3,000,100\u001b[0m (11.44 MB)\n"
            ],
            "text/html": [
              "<pre style=\"white-space:pre;overflow-x:auto;line-height:normal;font-family:Menlo,'DejaVu Sans Mono',consolas,'Courier New',monospace\"><span style=\"font-weight: bold\"> Total params: </span><span style=\"color: #00af00; text-decoration-color: #00af00\">3,000,100</span> (11.44 MB)\n",
              "</pre>\n"
            ]
          },
          "metadata": {}
        },
        {
          "output_type": "display_data",
          "data": {
            "text/plain": [
              "\u001b[1m Trainable params: \u001b[0m\u001b[38;5;34m0\u001b[0m (0.00 B)\n"
            ],
            "text/html": [
              "<pre style=\"white-space:pre;overflow-x:auto;line-height:normal;font-family:Menlo,'DejaVu Sans Mono',consolas,'Courier New',monospace\"><span style=\"font-weight: bold\"> Trainable params: </span><span style=\"color: #00af00; text-decoration-color: #00af00\">0</span> (0.00 B)\n",
              "</pre>\n"
            ]
          },
          "metadata": {}
        },
        {
          "output_type": "display_data",
          "data": {
            "text/plain": [
              "\u001b[1m Non-trainable params: \u001b[0m\u001b[38;5;34m3,000,100\u001b[0m (11.44 MB)\n"
            ],
            "text/html": [
              "<pre style=\"white-space:pre;overflow-x:auto;line-height:normal;font-family:Menlo,'DejaVu Sans Mono',consolas,'Courier New',monospace\"><span style=\"font-weight: bold\"> Non-trainable params: </span><span style=\"color: #00af00; text-decoration-color: #00af00\">3,000,100</span> (11.44 MB)\n",
              "</pre>\n"
            ]
          },
          "metadata": {}
        }
      ],
      "source": [
        "from tensorflow.keras.models import Sequential\n",
        "from tensorflow.keras.layers import Embedding, LSTM, Dense, Dropout, Bidirectional, GlobalAveragePooling1D\n",
        "from tensorflow.keras.callbacks import EarlyStopping\n",
        "from tensorflow.keras.optimizers import Adam\n",
        "from tensorflow.keras import mixed_precision\n",
        "\n",
        "# Model parameters\n",
        "embedding_dim = 100\n",
        "lstm_units = 64\n",
        "num_classes = len(label_encoder.classes_)\n",
        "batch_size = 128\n",
        "learning_rate = 0.001\n",
        "\n",
        "# Define the model\n",
        "model = Sequential([\n",
        "\n",
        "    Embedding(input_dim=max_words + 1,\n",
        "              output_dim=embedding_dim,\n",
        "              weights=[embedding_matrix],\n",
        "              trainable=False),\n",
        "\n",
        "    Bidirectional(LSTM(units=lstm_units, return_sequences=True)),  # Bidirectional LSTM\n",
        "    GlobalAveragePooling1D(),  # Pooling layer to reduce dimensionality\n",
        "    Dropout(0.3),  # Dropout for regularization\n",
        "    Dense(32, activation='relu'),  # Reduced Dense layer size\n",
        "    Dropout(0.3),  # Dropout for regularization\n",
        "    Dense(num_classes, activation='softmax')  # Output layer with softmax for multi-class classification\n",
        "])\n",
        "\n",
        "model.compile(optimizer=Adam(learning_rate=learning_rate),\n",
        "              loss='sparse_categorical_crossentropy',\n",
        "              metrics=['accuracy'])\n",
        "\n",
        "model.summary()\n",
        "\n",
        "early_stopping = EarlyStopping(monitor='val_loss', patience=3, restore_best_weights=True)"
      ]
    },
    {
      "cell_type": "code",
      "execution_count": null,
      "metadata": {
        "colab": {
          "base_uri": "https://localhost:8080/"
        },
        "id": "sD_mGxohtB4I",
        "outputId": "c479e549-6264-4298-d2dd-e5125062fa9c"
      },
      "outputs": [
        {
          "name": "stdout",
          "output_type": "stream",
          "text": [
            "Epoch 1/10\n",
            "\u001b[1m188/188\u001b[0m \u001b[32m━━━━━━━━━━━━━━━━━━━━\u001b[0m\u001b[37m\u001b[0m \u001b[1m16s\u001b[0m 49ms/step - accuracy: 0.3601 - loss: 1.0969 - val_accuracy: 0.3660 - val_loss: 1.0880\n",
            "Epoch 2/10\n",
            "\u001b[1m188/188\u001b[0m \u001b[32m━━━━━━━━━━━━━━━━━━━━\u001b[0m\u001b[37m\u001b[0m \u001b[1m9s\u001b[0m 50ms/step - accuracy: 0.3920 - loss: 1.0825 - val_accuracy: 0.4397 - val_loss: 1.0628\n",
            "Epoch 3/10\n",
            "\u001b[1m188/188\u001b[0m \u001b[32m━━━━━━━━━━━━━━━━━━━━\u001b[0m\u001b[37m\u001b[0m \u001b[1m10s\u001b[0m 50ms/step - accuracy: 0.4489 - loss: 1.0523 - val_accuracy: 0.4984 - val_loss: 1.0048\n",
            "Epoch 4/10\n",
            "\u001b[1m188/188\u001b[0m \u001b[32m━━━━━━━━━━━━━━━━━━━━\u001b[0m\u001b[37m\u001b[0m \u001b[1m11s\u001b[0m 55ms/step - accuracy: 0.4933 - loss: 1.0049 - val_accuracy: 0.5467 - val_loss: 0.9100\n",
            "Epoch 5/10\n",
            "\u001b[1m188/188\u001b[0m \u001b[32m━━━━━━━━━━━━━━━━━━━━\u001b[0m\u001b[37m\u001b[0m \u001b[1m20s\u001b[0m 51ms/step - accuracy: 0.5433 - loss: 0.9357 - val_accuracy: 0.5668 - val_loss: 0.8831\n",
            "Epoch 6/10\n",
            "\u001b[1m188/188\u001b[0m \u001b[32m━━━━━━━━━━━━━━━━━━━━\u001b[0m\u001b[37m\u001b[0m \u001b[1m10s\u001b[0m 51ms/step - accuracy: 0.5871 - loss: 0.8878 - val_accuracy: 0.6021 - val_loss: 0.8395\n",
            "Epoch 7/10\n",
            "\u001b[1m188/188\u001b[0m \u001b[32m━━━━━━━━━━━━━━━━━━━━\u001b[0m\u001b[37m\u001b[0m \u001b[1m10s\u001b[0m 49ms/step - accuracy: 0.6036 - loss: 0.8537 - val_accuracy: 0.4853 - val_loss: 0.9771\n",
            "Epoch 8/10\n",
            "\u001b[1m188/188\u001b[0m \u001b[32m━━━━━━━━━━━━━━━━━━━━\u001b[0m\u001b[37m\u001b[0m \u001b[1m10s\u001b[0m 49ms/step - accuracy: 0.5451 - loss: 0.9492 - val_accuracy: 0.4948 - val_loss: 0.9636\n",
            "Epoch 9/10\n",
            "\u001b[1m188/188\u001b[0m \u001b[32m━━━━━━━━━━━━━━━━━━━━\u001b[0m\u001b[37m\u001b[0m \u001b[1m11s\u001b[0m 51ms/step - accuracy: 0.5280 - loss: 0.9411 - val_accuracy: 0.5851 - val_loss: 0.9412\n"
          ]
        }
      ],
      "source": [
        "history = model.fit(\n",
        "    X_train_pad, y_train,\n",
        "    epochs=10,\n",
        "    batch_size=batch_size,\n",
        "    validation_data=(X_val_pad, y_val),\n",
        "    callbacks=[early_stopping]\n",
        ")"
      ]
    },
    {
      "cell_type": "code",
      "execution_count": null,
      "metadata": {
        "colab": {
          "base_uri": "https://localhost:8080/"
        },
        "id": "kYHqHD5Btpul",
        "outputId": "de03826c-c13e-432f-c8c7-8783b6955b71"
      },
      "outputs": [
        {
          "output_type": "stream",
          "name": "stdout",
          "text": [
            "\u001b[1m235/235\u001b[0m \u001b[32m━━━━━━━━━━━━━━━━━━━━\u001b[0m\u001b[37m\u001b[0m \u001b[1m13s\u001b[0m 56ms/step\n",
            "F1 Score: 0.7167804722303867\n",
            "              precision    recall  f1-score   support\n",
            "\n",
            "      center       0.84      0.64      0.73      2163\n",
            "        left       0.62      0.76      0.68      2601\n",
            "       right       0.75      0.73      0.74      2747\n",
            "\n",
            "    accuracy                           0.72      7511\n",
            "   macro avg       0.74      0.71      0.72      7511\n",
            "weighted avg       0.73      0.72      0.72      7511\n",
            "\n"
          ]
        }
      ],
      "source": [
        "from sklearn.metrics import classification_report, f1_score\n",
        "\n",
        "y_pred = model.predict(X_test_pad)\n",
        "y_pred_classes = y_pred.argmax(axis=1)  # Convert probabilities to class labels\n",
        "\n",
        "f1 = f1_score(y_test, y_pred_classes, average='weighted')\n",
        "print(f\"F1 Score: {f1}\")\n",
        "\n",
        "class_names = label_encoder.classes_\n",
        "report = classification_report(y_test, y_pred_classes, target_names=class_names)\n",
        "print(report)"
      ]
    },
    {
      "cell_type": "code",
      "execution_count": null,
      "metadata": {
        "colab": {
          "base_uri": "https://localhost:8080/",
          "height": 564
        },
        "id": "GMCCaJmTp6Gm",
        "outputId": "3fdb4181-6729-4520-b0ef-24572c9f359b"
      },
      "outputs": [
        {
          "output_type": "display_data",
          "data": {
            "text/plain": [
              "<Figure size 800x600 with 2 Axes>"
            ],
            "image/png": "[encoded data removed]"
          },
          "metadata": {}
        }
      ],
      "source": [
        "from sklearn.metrics import confusion_matrix\n",
        "import seaborn as sns\n",
        "import matplotlib.pyplot as plt\n",
        "\n",
        "cm = confusion_matrix(y_test, y_pred_classes)\n",
        "\n",
        "plt.figure(figsize=(8, 6))\n",
        "sns.heatmap(cm, annot=True, fmt=\"d\", cmap=\"Blues\", xticklabels=label_encoder.classes_, yticklabels=label_encoder.classes_)\n",
        "plt.title(\"Confusion Matrix\")\n",
        "plt.xlabel(\"Predicted Labels\")\n",
        "plt.ylabel(\"True Labels\")\n",
        "plt.show()"
      ]
    },
    {
      "cell_type": "code",
      "source": [
        "import numpy as np\n",
        "from tensorflow.keras.preprocessing.text import Tokenizer\n",
        "from tensorflow.keras.preprocessing.sequence import pad_sequences\n",
        "import string\n",
        "\n",
        "def preprocess_text(text):\n",
        "    text = text.lower()  # Convert text to lowercase\n",
        "    text = text.translate(str.maketrans('', '', string.punctuation))  # Remove punctuation\n",
        "    return text\n",
        "\n",
        "# Function to predict the bias of a new article\n",
        "def predict_bias(article, tokenizer, model, max_words=30000, max_len=500):\n",
        "    # Step 1: Preprocess the article text\n",
        "    article = preprocess_text(article)\n",
        "\n",
        "    # Step 2: Tokenize the text (using the same tokenizer from training)\n",
        "    article_seq = tokenizer.texts_to_sequences([article])\n",
        "\n",
        "    # Step 3: Pad the sequence to match the input length expected by the model\n",
        "    article_pad = pad_sequences(article_seq, maxlen=max_len)\n",
        "\n",
        "    # Step 4: Make the prediction\n",
        "    prediction = model.predict(article_pad)\n",
        "\n",
        "    # Step 5: Get the predicted class\n",
        "    predicted_class = prediction.argmax(axis=1)[0]\n",
        "\n",
        "    # Step 6: Map the predicted class back to the label (bias_text_encoded)\n",
        "    predicted_label = label_encoder.classes_[predicted_class]\n",
        "\n",
        "    return predicted_label\n",
        "\n",
        "new_article = \"\"\"\n",
        "\n",
        "New York police are investigating a fatal immigrant gang stabbing in Lower Manhattan that left one teenager dead and another injured.\n",
        "\n",
        "The stabbing is believed to have erupted because of a dispute between migrant gangs that have taken over several New York City-run migrant hotels in the neighborhood, according to local news channel ABC7 NY.\n",
        "\n",
        "The two victims, both teenage migrants reportedly associated with a Venezuelan gang called \"Los Diablos de la 42\" (the devils of 42nd Street), were attacked by three unknown assailants at 7:43 p.m. on Dec. 5.\n",
        "\n",
        "The deceased victim, a 17-year-old named Yeremi Colino, was living in the Roosevelt Hotel in Midtown Manhattan, which is being used as a migrant shelter paid for by the City of New York. Colino was stabbed in the chest and was taken to a nearby hospital after a bystander called 911. Colino died from his wounds in the hospital.\n",
        "\n",
        "The second victim, an 18-year-old migrant named Alan Magalles Bello, was stabbed in the arm by a screwdriver but is expected to recover.\n",
        "\n",
        "The three assailants, who were wearing COVID masks, were caught on camera. Police have yet to make any arrests.\n",
        "\n",
        "The incident was initially being investigated as a hate crime as early reports indicated the assailants attacked after asking the two victims if they spoke English. Several Democratic politicians rushed to condemn the attack as \"racist.\"\n",
        "\n",
        "According to local outlet amNewYork Metro, Congressman Dan Goldman, whose district includes portions of Manhattan, said that \"two migrant teenagers were stabbed in our city because they didn’t speak English.\"\n",
        "\n",
        "\"I condemn this racist, xenophobic hatred in the strongest terms – it has no place in our city and must be rejected,\" he said, adding that \"these suspects must be prosecuted to the fullest extent of the law.\"\n",
        "\n",
        "Police are no longer investigating the attack as a hate crime, however, after video footage indicated the confrontation unfolded over gang signs.\n",
        "\n",
        "According to ABC7 NY, video footage recorded the victims confronting the larger group asking; \"Why are you flashing gang signs?\" before a brawl ensued, which left Colino dead and Bello injured.\n",
        "\n",
        "The New York Post reported that both victims were associated with the \"Diablos de la 42\" gang, which has ties to the international Venezuelan terrorist group \"Tren de Aragua.\"\n",
        "\n",
        "ABC7 NY reported that the suspects are believed to be gang members in the Caribbean migrant community.\n",
        "\n",
        "New York Police Department Detective Bureau Assistant Chief Jason Savino said that the Diablos gang has issued messages mourning the loss of Colino and vowing revenge on the Caribbean gang.\n",
        "\n",
        "\"\"\"\n",
        "\n",
        "# Make a prediction\n",
        "predicted_bias = predict_bias(new_article, tokenizer, model)\n",
        "\n",
        "print(f\"The predicted bias for the article is: {predicted_bias}\")\n"
      ],
      "metadata": {
        "colab": {
          "base_uri": "https://localhost:8080/"
        },
        "id": "Zn4L1nEmS3XV",
        "outputId": "e48fdef4-fae9-4429-9834-d456b299551c"
      },
      "execution_count": 9,
      "outputs": [
        {
          "output_type": "stream",
          "name": "stdout",
          "text": [
            "\u001b[1m1/1\u001b[0m \u001b[32m━━━━━━━━━━━━━━━━━━━━\u001b[0m\u001b[37m\u001b[0m \u001b[1m0s\u001b[0m 37ms/step\n",
            "The predicted bias for the article is: right\n"
          ]
        }
      ]
    }
  ],
  "metadata": {
    "accelerator": "GPU",
    "colab": {
      "gpuType": "T4",
      "provenance": []
    },
    "kernelspec": {
      "display_name": "Python 3",
      "name": "python3"
    },
    "language_info": {
      "name": "python"
    }
  },
  "nbformat": 4,
  "nbformat_minor": 0
}