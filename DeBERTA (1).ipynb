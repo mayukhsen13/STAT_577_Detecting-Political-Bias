{
  "nbformat": 4,
  "nbformat_minor": 0,
  "metadata": {
    "colab": {
      "provenance": [],
      "gpuType": "A100"
    },
    "kernelspec": {
      "name": "python3",
      "display_name": "Python 3"
    },
    "language_info": {
      "name": "python"
    },
    "accelerator": "GPU",
    "widgets": {
      "application/vnd.jupyter.widget-state+json": {
        "b4827b610fc949938cb6f2383b505a0e": {
          "model_module": "@jupyter-widgets/controls",
          "model_name": "HBoxModel",
          "model_module_version": "1.5.0",
          "state": {
            "_dom_classes": [],
            "_model_module": "@jupyter-widgets/controls",
            "_model_module_version": "1.5.0",
            "_model_name": "HBoxModel",
            "_view_count": null,
            "_view_module": "@jupyter-widgets/controls",
            "_view_module_version": "1.5.0",
            "_view_name": "HBoxView",
            "box_style": "",
            "children": [
              "IPY_MODEL_0e486ab296f94053a12128b9385355cb",
              "IPY_MODEL_de4e0c280e934d218870c3e9aa0f9ea4",
              "IPY_MODEL_74f4924246f94ae2a5a611a1f6de064c"
            ],
            "layout": "IPY_MODEL_6dbe84c2edfb489b84d59e6371e6f464"
          }
        },
        "0e486ab296f94053a12128b9385355cb": {
          "model_module": "@jupyter-widgets/controls",
          "model_name": "HTMLModel",
          "model_module_version": "1.5.0",
          "state": {
            "_dom_classes": [],
            "_model_module": "@jupyter-widgets/controls",
            "_model_module_version": "1.5.0",
            "_model_name": "HTMLModel",
            "_view_count": null,
            "_view_module": "@jupyter-widgets/controls",
            "_view_module_version": "1.5.0",
            "_view_name": "HTMLView",
            "description": "",
            "description_tooltip": null,
            "layout": "IPY_MODEL_68886bfdac1c45fda6e6c801be0221a7",
            "placeholder": "​",
            "style": "IPY_MODEL_ea4764cbce554ae78be7522affca36a7",
            "value": "tokenizer_config.json: 100%"
          }
        },
        "de4e0c280e934d218870c3e9aa0f9ea4": {
          "model_module": "@jupyter-widgets/controls",
          "model_name": "FloatProgressModel",
          "model_module_version": "1.5.0",
          "state": {
            "_dom_classes": [],
            "_model_module": "@jupyter-widgets/controls",
            "_model_module_version": "1.5.0",
            "_model_name": "FloatProgressModel",
            "_view_count": null,
            "_view_module": "@jupyter-widgets/controls",
            "_view_module_version": "1.5.0",
            "_view_name": "ProgressView",
            "bar_style": "success",
            "description": "",
            "description_tooltip": null,
            "layout": "IPY_MODEL_3327a0618d224cdeafc74fcab23b4581",
            "max": 52,
            "min": 0,
            "orientation": "horizontal",
            "style": "IPY_MODEL_f824b1a8a95643dcafc6410f62712a30",
            "value": 52
          }
        },
        "74f4924246f94ae2a5a611a1f6de064c": {
          "model_module": "@jupyter-widgets/controls",
          "model_name": "HTMLModel",
          "model_module_version": "1.5.0",
          "state": {
            "_dom_classes": [],
            "_model_module": "@jupyter-widgets/controls",
            "_model_module_version": "1.5.0",
            "_model_name": "HTMLModel",
            "_view_count": null,
            "_view_module": "@jupyter-widgets/controls",
            "_view_module_version": "1.5.0",
            "_view_name": "HTMLView",
            "description": "",
            "description_tooltip": null,
            "layout": "IPY_MODEL_39b002aa03f04a6a984f9fb81bd3434e",
            "placeholder": "​",
            "style": "IPY_MODEL_6459ef9c58fb4ad4807bf301d7a5cdf8",
            "value": " 52.0/52.0 [00:00&lt;00:00, 4.46kB/s]"
          }
        },
        "6dbe84c2edfb489b84d59e6371e6f464": {
          "model_module": "@jupyter-widgets/base",
          "model_name": "LayoutModel",
          "model_module_version": "1.2.0",
          "state": {
            "_model_module": "@jupyter-widgets/base",
            "_model_module_version": "1.2.0",
            "_model_name": "LayoutModel",
            "_view_count": null,
            "_view_module": "@jupyter-widgets/base",
            "_view_module_version": "1.2.0",
            "_view_name": "LayoutView",
            "align_content": null,
            "align_items": null,
            "align_self": null,
            "border": null,
            "bottom": null,
            "display": null,
            "flex": null,
            "flex_flow": null,
            "grid_area": null,
            "grid_auto_columns": null,
            "grid_auto_flow": null,
            "grid_auto_rows": null,
            "grid_column": null,
            "grid_gap": null,
            "grid_row": null,
            "grid_template_areas": null,
            "grid_template_columns": null,
            "grid_template_rows": null,
            "height": null,
            "justify_content": null,
            "justify_items": null,
            "left": null,
            "margin": null,
            "max_height": null,
            "max_width": null,
            "min_height": null,
            "min_width": null,
            "object_fit": null,
            "object_position": null,
            "order": null,
            "overflow": null,
            "overflow_x": null,
            "overflow_y": null,
            "padding": null,
            "right": null,
            "top": null,
            "visibility": null,
            "width": null
          }
        },
        "68886bfdac1c45fda6e6c801be0221a7": {
          "model_module": "@jupyter-widgets/base",
          "model_name": "LayoutModel",
          "model_module_version": "1.2.0",
          "state": {
            "_model_module": "@jupyter-widgets/base",
            "_model_module_version": "1.2.0",
            "_model_name": "LayoutModel",
            "_view_count": null,
            "_view_module": "@jupyter-widgets/base",
            "_view_module_version": "1.2.0",
            "_view_name": "LayoutView",
            "align_content": null,
            "align_items": null,
            "align_self": null,
            "border": null,
            "bottom": null,
            "display": null,
            "flex": null,
            "flex_flow": null,
            "grid_area": null,
            "grid_auto_columns": null,
            "grid_auto_flow": null,
            "grid_auto_rows": null,
            "grid_column": null,
            "grid_gap": null,
            "grid_row": null,
            "grid_template_areas": null,
            "grid_template_columns": null,
            "grid_template_rows": null,
            "height": null,
            "justify_content": null,
            "justify_items": null,
            "left": null,
            "margin": null,
            "max_height": null,
            "max_width": null,
            "min_height": null,
            "min_width": null,
            "object_fit": null,
            "object_position": null,
            "order": null,
            "overflow": null,
            "overflow_x": null,
            "overflow_y": null,
            "padding": null,
            "right": null,
            "top": null,
            "visibility": null,
            "width": null
          }
        },
        "ea4764cbce554ae78be7522affca36a7": {
          "model_module": "@jupyter-widgets/controls",
          "model_name": "DescriptionStyleModel",
          "model_module_version": "1.5.0",
          "state": {
            "_model_module": "@jupyter-widgets/controls",
            "_model_module_version": "1.5.0",
            "_model_name": "DescriptionStyleModel",
            "_view_count": null,
            "_view_module": "@jupyter-widgets/base",
            "_view_module_version": "1.2.0",
            "_view_name": "StyleView",
            "description_width": ""
          }
        },
        "3327a0618d224cdeafc74fcab23b4581": {
          "model_module": "@jupyter-widgets/base",
          "model_name": "LayoutModel",
          "model_module_version": "1.2.0",
          "state": {
            "_model_module": "@jupyter-widgets/base",
            "_model_module_version": "1.2.0",
            "_model_name": "LayoutModel",
            "_view_count": null,
            "_view_module": "@jupyter-widgets/base",
            "_view_module_version": "1.2.0",
            "_view_name": "LayoutView",
            "align_content": null,
            "align_items": null,
            "align_self": null,
            "border": null,
            "bottom": null,
            "display": null,
            "flex": null,
            "flex_flow": null,
            "grid_area": null,
            "grid_auto_columns": null,
            "grid_auto_flow": null,
            "grid_auto_rows": null,
            "grid_column": null,
            "grid_gap": null,
            "grid_row": null,
            "grid_template_areas": null,
            "grid_template_columns": null,
            "grid_template_rows": null,
            "height": null,
            "justify_content": null,
            "justify_items": null,
            "left": null,
            "margin": null,
            "max_height": null,
            "max_width": null,
            "min_height": null,
            "min_width": null,
            "object_fit": null,
            "object_position": null,
            "order": null,
            "overflow": null,
            "overflow_x": null,
            "overflow_y": null,
            "padding": null,
            "right": null,
            "top": null,
            "visibility": null,
            "width": null
          }
        },
        "f824b1a8a95643dcafc6410f62712a30": {
          "model_module": "@jupyter-widgets/controls",
          "model_name": "ProgressStyleModel",
          "model_module_version": "1.5.0",
          "state": {
            "_model_module": "@jupyter-widgets/controls",
            "_model_module_version": "1.5.0",
            "_model_name": "ProgressStyleModel",
            "_view_count": null,
            "_view_module": "@jupyter-widgets/base",
            "_view_module_version": "1.2.0",
            "_view_name": "StyleView",
            "bar_color": null,
            "description_width": ""
          }
        },
        "39b002aa03f04a6a984f9fb81bd3434e": {
          "model_module": "@jupyter-widgets/base",
          "model_name": "LayoutModel",
          "model_module_version": "1.2.0",
          "state": {
            "_model_module": "@jupyter-widgets/base",
            "_model_module_version": "1.2.0",
            "_model_name": "LayoutModel",
            "_view_count": null,
            "_view_module": "@jupyter-widgets/base",
            "_view_module_version": "1.2.0",
            "_view_name": "LayoutView",
            "align_content": null,
            "align_items": null,
            "align_self": null,
            "border": null,
            "bottom": null,
            "display": null,
            "flex": null,
            "flex_flow": null,
            "grid_area": null,
            "grid_auto_columns": null,
            "grid_auto_flow": null,
            "grid_auto_rows": null,
            "grid_column": null,
            "grid_gap": null,
            "grid_row": null,
            "grid_template_areas": null,
            "grid_template_columns": null,
            "grid_template_rows": null,
            "height": null,
            "justify_content": null,
            "justify_items": null,
            "left": null,
            "margin": null,
            "max_height": null,
            "max_width": null,
            "min_height": null,
            "min_width": null,
            "object_fit": null,
            "object_position": null,
            "order": null,
            "overflow": null,
            "overflow_x": null,
            "overflow_y": null,
            "padding": null,
            "right": null,
            "top": null,
            "visibility": null,
            "width": null
          }
        },
        "6459ef9c58fb4ad4807bf301d7a5cdf8": {
          "model_module": "@jupyter-widgets/controls",
          "model_name": "DescriptionStyleModel",
          "model_module_version": "1.5.0",
          "state": {
            "_model_module": "@jupyter-widgets/controls",
            "_model_module_version": "1.5.0",
            "_model_name": "DescriptionStyleModel",
            "_view_count": null,
            "_view_module": "@jupyter-widgets/base",
            "_view_module_version": "1.2.0",
            "_view_name": "StyleView",
            "description_width": ""
          }
        },
        "1a568b82130246809c45f19c9861af4b": {
          "model_module": "@jupyter-widgets/controls",
          "model_name": "HBoxModel",
          "model_module_version": "1.5.0",
          "state": {
            "_dom_classes": [],
            "_model_module": "@jupyter-widgets/controls",
            "_model_module_version": "1.5.0",
            "_model_name": "HBoxModel",
            "_view_count": null,
            "_view_module": "@jupyter-widgets/controls",
            "_view_module_version": "1.5.0",
            "_view_name": "HBoxView",
            "box_style": "",
            "children": [
              "IPY_MODEL_3b307c666b544f048a51dc99f2a07574",
              "IPY_MODEL_5095b252cf5e4c81b1a01ce2c54c491b",
              "IPY_MODEL_e965134dd4b34ea48c566f537517e4d0"
            ],
            "layout": "IPY_MODEL_97c2fbd796ef44f4aed6391e2a172b06"
          }
        },
        "3b307c666b544f048a51dc99f2a07574": {
          "model_module": "@jupyter-widgets/controls",
          "model_name": "HTMLModel",
          "model_module_version": "1.5.0",
          "state": {
            "_dom_classes": [],
            "_model_module": "@jupyter-widgets/controls",
            "_model_module_version": "1.5.0",
            "_model_name": "HTMLModel",
            "_view_count": null,
            "_view_module": "@jupyter-widgets/controls",
            "_view_module_version": "1.5.0",
            "_view_name": "HTMLView",
            "description": "",
            "description_tooltip": null,
            "layout": "IPY_MODEL_600af345261d47b192f5bb399d5de6ce",
            "placeholder": "​",
            "style": "IPY_MODEL_33d45b9f80484f97961559a9699e2106",
            "value": "spm.model: 100%"
          }
        },
        "5095b252cf5e4c81b1a01ce2c54c491b": {
          "model_module": "@jupyter-widgets/controls",
          "model_name": "FloatProgressModel",
          "model_module_version": "1.5.0",
          "state": {
            "_dom_classes": [],
            "_model_module": "@jupyter-widgets/controls",
            "_model_module_version": "1.5.0",
            "_model_name": "FloatProgressModel",
            "_view_count": null,
            "_view_module": "@jupyter-widgets/controls",
            "_view_module_version": "1.5.0",
            "_view_name": "ProgressView",
            "bar_style": "success",
            "description": "",
            "description_tooltip": null,
            "layout": "IPY_MODEL_b1d531f3d998482093012581d0e2df84",
            "max": 2464616,
            "min": 0,
            "orientation": "horizontal",
            "style": "IPY_MODEL_f793a0636b794c00bad337479b9d56ac",
            "value": 2464616
          }
        },
        "e965134dd4b34ea48c566f537517e4d0": {
          "model_module": "@jupyter-widgets/controls",
          "model_name": "HTMLModel",
          "model_module_version": "1.5.0",
          "state": {
            "_dom_classes": [],
            "_model_module": "@jupyter-widgets/controls",
            "_model_module_version": "1.5.0",
            "_model_name": "HTMLModel",
            "_view_count": null,
            "_view_module": "@jupyter-widgets/controls",
            "_view_module_version": "1.5.0",
            "_view_name": "HTMLView",
            "description": "",
            "description_tooltip": null,
            "layout": "IPY_MODEL_59388c2301f14ada877bd21370fae478",
            "placeholder": "​",
            "style": "IPY_MODEL_649e2577744c4f17820df32e82bafa2c",
            "value": " 2.46M/2.46M [00:00&lt;00:00, 27.2MB/s]"
          }
        },
        "97c2fbd796ef44f4aed6391e2a172b06": {
          "model_module": "@jupyter-widgets/base",
          "model_name": "LayoutModel",
          "model_module_version": "1.2.0",
          "state": {
            "_model_module": "@jupyter-widgets/base",
            "_model_module_version": "1.2.0",
            "_model_name": "LayoutModel",
            "_view_count": null,
            "_view_module": "@jupyter-widgets/base",
            "_view_module_version": "1.2.0",
            "_view_name": "LayoutView",
            "align_content": null,
            "align_items": null,
            "align_self": null,
            "border": null,
            "bottom": null,
            "display": null,
            "flex": null,
            "flex_flow": null,
            "grid_area": null,
            "grid_auto_columns": null,
            "grid_auto_flow": null,
            "grid_auto_rows": null,
            "grid_column": null,
            "grid_gap": null,
            "grid_row": null,
            "grid_template_areas": null,
            "grid_template_columns": null,
            "grid_template_rows": null,
            "height": null,
            "justify_content": null,
            "justify_items": null,
            "left": null,
            "margin": null,
            "max_height": null,
            "max_width": null,
            "min_height": null,
            "min_width": null,
            "object_fit": null,
            "object_position": null,
            "order": null,
            "overflow": null,
            "overflow_x": null,
            "overflow_y": null,
            "padding": null,
            "right": null,
            "top": null,
            "visibility": null,
            "width": null
          }
        },
        "600af345261d47b192f5bb399d5de6ce": {
          "model_module": "@jupyter-widgets/base",
          "model_name": "LayoutModel",
          "model_module_version": "1.2.0",
          "state": {
            "_model_module": "@jupyter-widgets/base",
            "_model_module_version": "1.2.0",
            "_model_name": "LayoutModel",
            "_view_count": null,
            "_view_module": "@jupyter-widgets/base",
            "_view_module_version": "1.2.0",
            "_view_name": "LayoutView",
            "align_content": null,
            "align_items": null,
            "align_self": null,
            "border": null,
            "bottom": null,
            "display": null,
            "flex": null,
            "flex_flow": null,
            "grid_area": null,
            "grid_auto_columns": null,
            "grid_auto_flow": null,
            "grid_auto_rows": null,
            "grid_column": null,
            "grid_gap": null,
            "grid_row": null,
            "grid_template_areas": null,
            "grid_template_columns": null,
            "grid_template_rows": null,
            "height": null,
            "justify_content": null,
            "justify_items": null,
            "left": null,
            "margin": null,
            "max_height": null,
            "max_width": null,
            "min_height": null,
            "min_width": null,
            "object_fit": null,
            "object_position": null,
            "order": null,
            "overflow": null,
            "overflow_x": null,
            "overflow_y": null,
            "padding": null,
            "right": null,
            "top": null,
            "visibility": null,
            "width": null
          }
        },
        "33d45b9f80484f97961559a9699e2106": {
          "model_module": "@jupyter-widgets/controls",
          "model_name": "DescriptionStyleModel",
          "model_module_version": "1.5.0",
          "state": {
            "_model_module": "@jupyter-widgets/controls",
            "_model_module_version": "1.5.0",
            "_model_name": "DescriptionStyleModel",
            "_view_count": null,
            "_view_module": "@jupyter-widgets/base",
            "_view_module_version": "1.2.0",
            "_view_name": "StyleView",
            "description_width": ""
          }
        },
        "b1d531f3d998482093012581d0e2df84": {
          "model_module": "@jupyter-widgets/base",
          "model_name": "LayoutModel",
          "model_module_version": "1.2.0",
          "state": {
            "_model_module": "@jupyter-widgets/base",
            "_model_module_version": "1.2.0",
            "_model_name": "LayoutModel",
            "_view_count": null,
            "_view_module": "@jupyter-widgets/base",
            "_view_module_version": "1.2.0",
            "_view_name": "LayoutView",
            "align_content": null,
            "align_items": null,
            "align_self": null,
            "border": null,
            "bottom": null,
            "display": null,
            "flex": null,
            "flex_flow": null,
            "grid_area": null,
            "grid_auto_columns": null,
            "grid_auto_flow": null,
            "grid_auto_rows": null,
            "grid_column": null,
            "grid_gap": null,
            "grid_row": null,
            "grid_template_areas": null,
            "grid_template_columns": null,
            "grid_template_rows": null,
            "height": null,
            "justify_content": null,
            "justify_items": null,
            "left": null,
            "margin": null,
            "max_height": null,
            "max_width": null,
            "min_height": null,
            "min_width": null,
            "object_fit": null,
            "object_position": null,
            "order": null,
            "overflow": null,
            "overflow_x": null,
            "overflow_y": null,
            "padding": null,
            "right": null,
            "top": null,
            "visibility": null,
            "width": null
          }
        },
        "f793a0636b794c00bad337479b9d56ac": {
          "model_module": "@jupyter-widgets/controls",
          "model_name": "ProgressStyleModel",
          "model_module_version": "1.5.0",
          "state": {
            "_model_module": "@jupyter-widgets/controls",
            "_model_module_version": "1.5.0",
            "_model_name": "ProgressStyleModel",
            "_view_count": null,
            "_view_module": "@jupyter-widgets/base",
            "_view_module_version": "1.2.0",
            "_view_name": "StyleView",
            "bar_color": null,
            "description_width": ""
          }
        },
        "59388c2301f14ada877bd21370fae478": {
          "model_module": "@jupyter-widgets/base",
          "model_name": "LayoutModel",
          "model_module_version": "1.2.0",
          "state": {
            "_model_module": "@jupyter-widgets/base",
            "_model_module_version": "1.2.0",
            "_model_name": "LayoutModel",
            "_view_count": null,
            "_view_module": "@jupyter-widgets/base",
            "_view_module_version": "1.2.0",
            "_view_name": "LayoutView",
            "align_content": null,
            "align_items": null,
            "align_self": null,
            "border": null,
            "bottom": null,
            "display": null,
            "flex": null,
            "flex_flow": null,
            "grid_area": null,
            "grid_auto_columns": null,
            "grid_auto_flow": null,
            "grid_auto_rows": null,
            "grid_column": null,
            "grid_gap": null,
            "grid_row": null,
            "grid_template_areas": null,
            "grid_template_columns": null,
            "grid_template_rows": null,
            "height": null,
            "justify_content": null,
            "justify_items": null,
            "left": null,
            "margin": null,
            "max_height": null,
            "max_width": null,
            "min_height": null,
            "min_width": null,
            "object_fit": null,
            "object_position": null,
            "order": null,
            "overflow": null,
            "overflow_x": null,
            "overflow_y": null,
            "padding": null,
            "right": null,
            "top": null,
            "visibility": null,
            "width": null
          }
        },
        "649e2577744c4f17820df32e82bafa2c": {
          "model_module": "@jupyter-widgets/controls",
          "model_name": "DescriptionStyleModel",
          "model_module_version": "1.5.0",
          "state": {
            "_model_module": "@jupyter-widgets/controls",
            "_model_module_version": "1.5.0",
            "_model_name": "DescriptionStyleModel",
            "_view_count": null,
            "_view_module": "@jupyter-widgets/base",
            "_view_module_version": "1.2.0",
            "_view_name": "StyleView",
            "description_width": ""
          }
        },
        "84bcb7e4f2e74976a3bff130170ff7cc": {
          "model_module": "@jupyter-widgets/controls",
          "model_name": "HBoxModel",
          "model_module_version": "1.5.0",
          "state": {
            "_dom_classes": [],
            "_model_module": "@jupyter-widgets/controls",
            "_model_module_version": "1.5.0",
            "_model_name": "HBoxModel",
            "_view_count": null,
            "_view_module": "@jupyter-widgets/controls",
            "_view_module_version": "1.5.0",
            "_view_name": "HBoxView",
            "box_style": "",
            "children": [
              "IPY_MODEL_fb5cc36b78764e209179e8b35beb36bc",
              "IPY_MODEL_b959bcec6e314384aa2699c6c0876369",
              "IPY_MODEL_20a2b3ffb9aa48929538e9122cc6d1ba"
            ],
            "layout": "IPY_MODEL_81068bf7c09b4ddebc1af5fe146db8e5"
          }
        },
        "fb5cc36b78764e209179e8b35beb36bc": {
          "model_module": "@jupyter-widgets/controls",
          "model_name": "HTMLModel",
          "model_module_version": "1.5.0",
          "state": {
            "_dom_classes": [],
            "_model_module": "@jupyter-widgets/controls",
            "_model_module_version": "1.5.0",
            "_model_name": "HTMLModel",
            "_view_count": null,
            "_view_module": "@jupyter-widgets/controls",
            "_view_module_version": "1.5.0",
            "_view_name": "HTMLView",
            "description": "",
            "description_tooltip": null,
            "layout": "IPY_MODEL_08fb95e97563499684534366be075651",
            "placeholder": "​",
            "style": "IPY_MODEL_9fa0896e58eb4913825427acf8e3e885",
            "value": "config.json: 100%"
          }
        },
        "b959bcec6e314384aa2699c6c0876369": {
          "model_module": "@jupyter-widgets/controls",
          "model_name": "FloatProgressModel",
          "model_module_version": "1.5.0",
          "state": {
            "_dom_classes": [],
            "_model_module": "@jupyter-widgets/controls",
            "_model_module_version": "1.5.0",
            "_model_name": "FloatProgressModel",
            "_view_count": null,
            "_view_module": "@jupyter-widgets/controls",
            "_view_module_version": "1.5.0",
            "_view_name": "ProgressView",
            "bar_style": "success",
            "description": "",
            "description_tooltip": null,
            "layout": "IPY_MODEL_72a4de5d360b4eebb788237e809e5dc3",
            "max": 580,
            "min": 0,
            "orientation": "horizontal",
            "style": "IPY_MODEL_258f2d4f357a4c6fb50bf09678d249a7",
            "value": 580
          }
        },
        "20a2b3ffb9aa48929538e9122cc6d1ba": {
          "model_module": "@jupyter-widgets/controls",
          "model_name": "HTMLModel",
          "model_module_version": "1.5.0",
          "state": {
            "_dom_classes": [],
            "_model_module": "@jupyter-widgets/controls",
            "_model_module_version": "1.5.0",
            "_model_name": "HTMLModel",
            "_view_count": null,
            "_view_module": "@jupyter-widgets/controls",
            "_view_module_version": "1.5.0",
            "_view_name": "HTMLView",
            "description": "",
            "description_tooltip": null,
            "layout": "IPY_MODEL_f3af300e2c264c379f87cc0cae1b491b",
            "placeholder": "​",
            "style": "IPY_MODEL_9b39cfcd017140969982b91b1eac838c",
            "value": " 580/580 [00:00&lt;00:00, 50.9kB/s]"
          }
        },
        "81068bf7c09b4ddebc1af5fe146db8e5": {
          "model_module": "@jupyter-widgets/base",
          "model_name": "LayoutModel",
          "model_module_version": "1.2.0",
          "state": {
            "_model_module": "@jupyter-widgets/base",
            "_model_module_version": "1.2.0",
            "_model_name": "LayoutModel",
            "_view_count": null,
            "_view_module": "@jupyter-widgets/base",
            "_view_module_version": "1.2.0",
            "_view_name": "LayoutView",
            "align_content": null,
            "align_items": null,
            "align_self": null,
            "border": null,
            "bottom": null,
            "display": null,
            "flex": null,
            "flex_flow": null,
            "grid_area": null,
            "grid_auto_columns": null,
            "grid_auto_flow": null,
            "grid_auto_rows": null,
            "grid_column": null,
            "grid_gap": null,
            "grid_row": null,
            "grid_template_areas": null,
            "grid_template_columns": null,
            "grid_template_rows": null,
            "height": null,
            "justify_content": null,
            "justify_items": null,
            "left": null,
            "margin": null,
            "max_height": null,
            "max_width": null,
            "min_height": null,
            "min_width": null,
            "object_fit": null,
            "object_position": null,
            "order": null,
            "overflow": null,
            "overflow_x": null,
            "overflow_y": null,
            "padding": null,
            "right": null,
            "top": null,
            "visibility": null,
            "width": null
          }
        },
        "08fb95e97563499684534366be075651": {
          "model_module": "@jupyter-widgets/base",
          "model_name": "LayoutModel",
          "model_module_version": "1.2.0",
          "state": {
            "_model_module": "@jupyter-widgets/base",
            "_model_module_version": "1.2.0",
            "_model_name": "LayoutModel",
            "_view_count": null,
            "_view_module": "@jupyter-widgets/base",
            "_view_module_version": "1.2.0",
            "_view_name": "LayoutView",
            "align_content": null,
            "align_items": null,
            "align_self": null,
            "border": null,
            "bottom": null,
            "display": null,
            "flex": null,
            "flex_flow": null,
            "grid_area": null,
            "grid_auto_columns": null,
            "grid_auto_flow": null,
            "grid_auto_rows": null,
            "grid_column": null,
            "grid_gap": null,
            "grid_row": null,
            "grid_template_areas": null,
            "grid_template_columns": null,
            "grid_template_rows": null,
            "height": null,
            "justify_content": null,
            "justify_items": null,
            "left": null,
            "margin": null,
            "max_height": null,
            "max_width": null,
            "min_height": null,
            "min_width": null,
            "object_fit": null,
            "object_position": null,
            "order": null,
            "overflow": null,
            "overflow_x": null,
            "overflow_y": null,
            "padding": null,
            "right": null,
            "top": null,
            "visibility": null,
            "width": null
          }
        },
        "9fa0896e58eb4913825427acf8e3e885": {
          "model_module": "@jupyter-widgets/controls",
          "model_name": "DescriptionStyleModel",
          "model_module_version": "1.5.0",
          "state": {
            "_model_module": "@jupyter-widgets/controls",
            "_model_module_version": "1.5.0",
            "_model_name": "DescriptionStyleModel",
            "_view_count": null,
            "_view_module": "@jupyter-widgets/base",
            "_view_module_version": "1.2.0",
            "_view_name": "StyleView",
            "description_width": ""
          }
        },
        "72a4de5d360b4eebb788237e809e5dc3": {
          "model_module": "@jupyter-widgets/base",
          "model_name": "LayoutModel",
          "model_module_version": "1.2.0",
          "state": {
            "_model_module": "@jupyter-widgets/base",
            "_model_module_version": "1.2.0",
            "_model_name": "LayoutModel",
            "_view_count": null,
            "_view_module": "@jupyter-widgets/base",
            "_view_module_version": "1.2.0",
            "_view_name": "LayoutView",
            "align_content": null,
            "align_items": null,
            "align_self": null,
            "border": null,
            "bottom": null,
            "display": null,
            "flex": null,
            "flex_flow": null,
            "grid_area": null,
            "grid_auto_columns": null,
            "grid_auto_flow": null,
            "grid_auto_rows": null,
            "grid_column": null,
            "grid_gap": null,
            "grid_row": null,
            "grid_template_areas": null,
            "grid_template_columns": null,
            "grid_template_rows": null,
            "height": null,
            "justify_content": null,
            "justify_items": null,
            "left": null,
            "margin": null,
            "max_height": null,
            "max_width": null,
            "min_height": null,
            "min_width": null,
            "object_fit": null,
            "object_position": null,
            "order": null,
            "overflow": null,
            "overflow_x": null,
            "overflow_y": null,
            "padding": null,
            "right": null,
            "top": null,
            "visibility": null,
            "width": null
          }
        },
        "258f2d4f357a4c6fb50bf09678d249a7": {
          "model_module": "@jupyter-widgets/controls",
          "model_name": "ProgressStyleModel",
          "model_module_version": "1.5.0",
          "state": {
            "_model_module": "@jupyter-widgets/controls",
            "_model_module_version": "1.5.0",
            "_model_name": "ProgressStyleModel",
            "_view_count": null,
            "_view_module": "@jupyter-widgets/base",
            "_view_module_version": "1.2.0",
            "_view_name": "StyleView",
            "bar_color": null,
            "description_width": ""
          }
        },
        "f3af300e2c264c379f87cc0cae1b491b": {
          "model_module": "@jupyter-widgets/base",
          "model_name": "LayoutModel",
          "model_module_version": "1.2.0",
          "state": {
            "_model_module": "@jupyter-widgets/base",
            "_model_module_version": "1.2.0",
            "_model_name": "LayoutModel",
            "_view_count": null,
            "_view_module": "@jupyter-widgets/base",
            "_view_module_version": "1.2.0",
            "_view_name": "LayoutView",
            "align_content": null,
            "align_items": null,
            "align_self": null,
            "border": null,
            "bottom": null,
            "display": null,
            "flex": null,
            "flex_flow": null,
            "grid_area": null,
            "grid_auto_columns": null,
            "grid_auto_flow": null,
            "grid_auto_rows": null,
            "grid_column": null,
            "grid_gap": null,
            "grid_row": null,
            "grid_template_areas": null,
            "grid_template_columns": null,
            "grid_template_rows": null,
            "height": null,
            "justify_content": null,
            "justify_items": null,
            "left": null,
            "margin": null,
            "max_height": null,
            "max_width": null,
            "min_height": null,
            "min_width": null,
            "object_fit": null,
            "object_position": null,
            "order": null,
            "overflow": null,
            "overflow_x": null,
            "overflow_y": null,
            "padding": null,
            "right": null,
            "top": null,
            "visibility": null,
            "width": null
          }
        },
        "9b39cfcd017140969982b91b1eac838c": {
          "model_module": "@jupyter-widgets/controls",
          "model_name": "DescriptionStyleModel",
          "model_module_version": "1.5.0",
          "state": {
            "_model_module": "@jupyter-widgets/controls",
            "_model_module_version": "1.5.0",
            "_model_name": "DescriptionStyleModel",
            "_view_count": null,
            "_view_module": "@jupyter-widgets/base",
            "_view_module_version": "1.2.0",
            "_view_name": "StyleView",
            "description_width": ""
          }
        }
      }
    }
  },
  "cells": [
    {
      "cell_type": "code",
      "execution_count": null,
      "metadata": {
        "id": "rmr1pNxbxILU"
      },
      "outputs": [],
      "source": []
    },
    {
      "cell_type": "code",
      "source": [
        "from google.colab import drive\n",
        "from google.colab.files import download\n",
        "\n",
        "# Mount Google Drive\n",
        "drive.mount('/content/drive')\n",
        "\n",
        "# Base directory for input files and output images\n",
        "#base_path = '/content/drive/My Drive/GPT Project/'"
      ],
      "metadata": {
        "colab": {
          "base_uri": "https://localhost:8080/"
        },
        "id": "6V_iPAEjD2Te",
        "outputId": "4d8e2a23-a266-455a-e284-be26fac50af8"
      },
      "execution_count": null,
      "outputs": [
        {
          "output_type": "stream",
          "name": "stdout",
          "text": [
            "Mounted at /content/drive\n"
          ]
        }
      ]
    },
    {
      "cell_type": "code",
      "source": [
        "import pandas as pd\n",
        "import torch\n",
        "import numpy as np\n",
        "from sklearn.model_selection import train_test_split\n",
        "from sklearn.preprocessing import LabelEncoder\n",
        "from sklearn.metrics import accuracy_score, precision_recall_fscore_support\n",
        "from transformers import DebertaV2Tokenizer, DebertaV2ForSequenceClassification, Trainer, TrainingArguments\n",
        "from torch.utils.data import Dataset\n"
      ],
      "metadata": {
        "id": "wGfiunKtyf0q"
      },
      "execution_count": null,
      "outputs": []
    },
    {
      "cell_type": "code",
      "source": [
        "# Load the CSV file\n",
        "try:\n",
        "    df = pd.read_csv(\n",
        "        '/content/data.csv',  # Update this path to your file location\n",
        "        on_bad_lines='skip',\n",
        "        escapechar=\"\\\\\",\n",
        "        encoding='utf-8',\n",
        "        engine='python'\n",
        "    )\n",
        "    print(\"CSV file loaded successfully!\")\n",
        "except Exception as e:\n",
        "    print(f\"Error loading CSV file: {e}\")"
      ],
      "metadata": {
        "colab": {
          "base_uri": "https://localhost:8080/"
        },
        "id": "WS9kvUpMzD6T",
        "outputId": "5600b7f1-09f1-4581-e1ba-83b6dd39e754"
      },
      "execution_count": null,
      "outputs": [
        {
          "output_type": "stream",
          "name": "stdout",
          "text": [
            "CSV file loaded successfully!\n"
          ]
        }
      ]
    },
    {
      "cell_type": "code",
      "source": [
        "# Drop unnecessary columns\n",
        "df = df.drop(columns=['source_url', 'url', 'content_original', 'authors'], errors='ignore')\n",
        "\n",
        "# Combine 'title' and 'content' into a single input field\n",
        "df['text'] = df['title'] + \" \" + df['content']\n"
      ],
      "metadata": {
        "id": "X2LkYQjLzHqS"
      },
      "execution_count": null,
      "outputs": []
    },
    {
      "cell_type": "code",
      "source": [
        "df"
      ],
      "metadata": {
        "colab": {
          "base_uri": "https://localhost:8080/",
          "height": 597
        },
        "id": "XZ1IsnwZzY1v",
        "outputId": "9aa3d24e-81c4-4eda-aa73-2084effca0fc"
      },
      "execution_count": null,
      "outputs": [
        {
          "output_type": "execute_result",
          "data": {
            "text/plain": [
              "             topic            source  bias  \\\n",
              "0         politics          Politico     0   \n",
              "1            china         Bloomberg     1   \n",
              "2        terrorism  Washington Times     2   \n",
              "3         politics             Salon     0   \n",
              "4         politics    CNN (Web News)     0   \n",
              "...            ...               ...   ...   \n",
              "37549   media_bias          Fox News     2   \n",
              "37550    education               Vox     0   \n",
              "37551    elections          The Hill     1   \n",
              "37552    education            Reason     2   \n",
              "37553  us_congress   Fox Online News     2   \n",
              "\n",
              "                                                   title        date  \\\n",
              "0      Can the Impeachment Hearings Actually Change A...  2019-11-13   \n",
              "1      Trump’s Tariff Barrage Pushes China Fight to P...  2018-07-11   \n",
              "2      Top general: Failed Foley rescue was ‘highest-...  2014-09-16   \n",
              "3      America’s post-midterm inferno: Tea Party garb...  2014-11-12   \n",
              "4      E-mails among Christie appointees suggest poli...  2014-01-08   \n",
              "...                                                  ...         ...   \n",
              "37549  Summit meeting: Can there be a 'reset' between...  2016-11-22   \n",
              "37550  All of West Virginia’s teachers have been on s...  2018-03-03   \n",
              "37551  Kirsten Gillibrand officially announces White ...  2019-03-17   \n",
              "37552  Why We Need School Choice: \"Obama Administrati...  2017-01-23   \n",
              "37553  McConnell rails against Mueller report politic...         NaN   \n",
              "\n",
              "                                                 content bias_text  \\\n",
              "0      This happens for different reasons , but a key...      left   \n",
              "1      LISTEN TO ARTICLE 5:37 SHARE THIS ARTICLE Shar...    center   \n",
              "2      The Pentagon ’ s top general said Tuesday that...     right   \n",
              "3      A full week after the alleged “ shellacking “ ...      left   \n",
              "4      Story highlights Gergen : `` It feeds into thi...      left   \n",
              "...                                                  ...       ...   \n",
              "37549  If Donald Trump can sit down with Mitt Romney ...     right   \n",
              "37550  Thousands of public school teachers across Wes...      left   \n",
              "37551  Sen. Kirsten Gillibrand Kirsten GillibrandTo w...    center   \n",
              "37552  Welcome to National School Choice Week , an an...     right   \n",
              "37553  Senate Majority Leader Mitch McConnell , in a ...     right   \n",
              "\n",
              "                     ID                                               text  \\\n",
              "0      bpp2Cqpvyi2ER5Lr  Can the Impeachment Hearings Actually Change A...   \n",
              "1      PnVV1v7F0D8bhd5X  Trump’s Tariff Barrage Pushes China Fight to P...   \n",
              "2      pZlutCuZNm832qqK  Top general: Failed Foley rescue was ‘highest-...   \n",
              "3      aMGkvFlpLyQrX6iu  America’s post-midterm inferno: Tea Party garb...   \n",
              "4      Ludq48gCzDiKtnmX  E-mails among Christie appointees suggest poli...   \n",
              "...                 ...                                                ...   \n",
              "37549  aDXaucBITOvKX6Sl  Summit meeting: Can there be a 'reset' between...   \n",
              "37550  78Akx2nSokxbCMd0  All of West Virginia’s teachers have been on s...   \n",
              "37551  vvAgpKy0PL1h8990  Kirsten Gillibrand officially announces White ...   \n",
              "37552  aWlri1iRio9Q6Rfe  Why We Need School Choice: \"Obama Administrati...   \n",
              "37553  3BMrcnVjf3C8Rsgz  McConnell rails against Mueller report politic...   \n",
              "\n",
              "       bias_label  \n",
              "0               1  \n",
              "1               0  \n",
              "2               3  \n",
              "3               1  \n",
              "4               1  \n",
              "...           ...  \n",
              "37549           3  \n",
              "37550           1  \n",
              "37551           0  \n",
              "37552           3  \n",
              "37553           3  \n",
              "\n",
              "[37554 rows x 10 columns]"
            ],
            "text/html": [
              "\n",
              "  <div id=\"df-31c02b70-e74c-40ba-86b7-b634e523cf11\" class=\"colab-df-container\">\n",
              "    <div>\n",
              "<style scoped>\n",
              "    .dataframe tbody tr th:only-of-type {\n",
              "        vertical-align: middle;\n",
              "    }\n",
              "\n",
              "    .dataframe tbody tr th {\n",
              "        vertical-align: top;\n",
              "    }\n",
              "\n",
              "    .dataframe thead th {\n",
              "        text-align: right;\n",
              "    }\n",
              "</style>\n",
              "<table border=\"1\" class=\"dataframe\">\n",
              "  <thead>\n",
              "    <tr style=\"text-align: right;\">\n",
              "      <th></th>\n",
              "      <th>topic</th>\n",
              "      <th>source</th>\n",
              "      <th>bias</th>\n",
              "      <th>title</th>\n",
              "      <th>date</th>\n",
              "      <th>content</th>\n",
              "      <th>bias_text</th>\n",
              "      <th>ID</th>\n",
              "      <th>text</th>\n",
              "      <th>bias_label</th>\n",
              "    </tr>\n",
              "  </thead>\n",
              "  <tbody>\n",
              "    <tr>\n",
              "      <th>0</th>\n",
              "      <td>politics</td>\n",
              "      <td>Politico</td>\n",
              "      <td>0</td>\n",
              "      <td>Can the Impeachment Hearings Actually Change A...</td>\n",
              "      <td>2019-11-13</td>\n",
              "      <td>This happens for different reasons , but a key...</td>\n",
              "      <td>left</td>\n",
              "      <td>bpp2Cqpvyi2ER5Lr</td>\n",
              "      <td>Can the Impeachment Hearings Actually Change A...</td>\n",
              "      <td>1</td>\n",
              "    </tr>\n",
              "    <tr>\n",
              "      <th>1</th>\n",
              "      <td>china</td>\n",
              "      <td>Bloomberg</td>\n",
              "      <td>1</td>\n",
              "      <td>Trump’s Tariff Barrage Pushes China Fight to P...</td>\n",
              "      <td>2018-07-11</td>\n",
              "      <td>LISTEN TO ARTICLE 5:37 SHARE THIS ARTICLE Shar...</td>\n",
              "      <td>center</td>\n",
              "      <td>PnVV1v7F0D8bhd5X</td>\n",
              "      <td>Trump’s Tariff Barrage Pushes China Fight to P...</td>\n",
              "      <td>0</td>\n",
              "    </tr>\n",
              "    <tr>\n",
              "      <th>2</th>\n",
              "      <td>terrorism</td>\n",
              "      <td>Washington Times</td>\n",
              "      <td>2</td>\n",
              "      <td>Top general: Failed Foley rescue was ‘highest-...</td>\n",
              "      <td>2014-09-16</td>\n",
              "      <td>The Pentagon ’ s top general said Tuesday that...</td>\n",
              "      <td>right</td>\n",
              "      <td>pZlutCuZNm832qqK</td>\n",
              "      <td>Top general: Failed Foley rescue was ‘highest-...</td>\n",
              "      <td>3</td>\n",
              "    </tr>\n",
              "    <tr>\n",
              "      <th>3</th>\n",
              "      <td>politics</td>\n",
              "      <td>Salon</td>\n",
              "      <td>0</td>\n",
              "      <td>America’s post-midterm inferno: Tea Party garb...</td>\n",
              "      <td>2014-11-12</td>\n",
              "      <td>A full week after the alleged “ shellacking “ ...</td>\n",
              "      <td>left</td>\n",
              "      <td>aMGkvFlpLyQrX6iu</td>\n",
              "      <td>America’s post-midterm inferno: Tea Party garb...</td>\n",
              "      <td>1</td>\n",
              "    </tr>\n",
              "    <tr>\n",
              "      <th>4</th>\n",
              "      <td>politics</td>\n",
              "      <td>CNN (Web News)</td>\n",
              "      <td>0</td>\n",
              "      <td>E-mails among Christie appointees suggest poli...</td>\n",
              "      <td>2014-01-08</td>\n",
              "      <td>Story highlights Gergen : `` It feeds into thi...</td>\n",
              "      <td>left</td>\n",
              "      <td>Ludq48gCzDiKtnmX</td>\n",
              "      <td>E-mails among Christie appointees suggest poli...</td>\n",
              "      <td>1</td>\n",
              "    </tr>\n",
              "    <tr>\n",
              "      <th>...</th>\n",
              "      <td>...</td>\n",
              "      <td>...</td>\n",
              "      <td>...</td>\n",
              "      <td>...</td>\n",
              "      <td>...</td>\n",
              "      <td>...</td>\n",
              "      <td>...</td>\n",
              "      <td>...</td>\n",
              "      <td>...</td>\n",
              "      <td>...</td>\n",
              "    </tr>\n",
              "    <tr>\n",
              "      <th>37549</th>\n",
              "      <td>media_bias</td>\n",
              "      <td>Fox News</td>\n",
              "      <td>2</td>\n",
              "      <td>Summit meeting: Can there be a 'reset' between...</td>\n",
              "      <td>2016-11-22</td>\n",
              "      <td>If Donald Trump can sit down with Mitt Romney ...</td>\n",
              "      <td>right</td>\n",
              "      <td>aDXaucBITOvKX6Sl</td>\n",
              "      <td>Summit meeting: Can there be a 'reset' between...</td>\n",
              "      <td>3</td>\n",
              "    </tr>\n",
              "    <tr>\n",
              "      <th>37550</th>\n",
              "      <td>education</td>\n",
              "      <td>Vox</td>\n",
              "      <td>0</td>\n",
              "      <td>All of West Virginia’s teachers have been on s...</td>\n",
              "      <td>2018-03-03</td>\n",
              "      <td>Thousands of public school teachers across Wes...</td>\n",
              "      <td>left</td>\n",
              "      <td>78Akx2nSokxbCMd0</td>\n",
              "      <td>All of West Virginia’s teachers have been on s...</td>\n",
              "      <td>1</td>\n",
              "    </tr>\n",
              "    <tr>\n",
              "      <th>37551</th>\n",
              "      <td>elections</td>\n",
              "      <td>The Hill</td>\n",
              "      <td>1</td>\n",
              "      <td>Kirsten Gillibrand officially announces White ...</td>\n",
              "      <td>2019-03-17</td>\n",
              "      <td>Sen. Kirsten Gillibrand Kirsten GillibrandTo w...</td>\n",
              "      <td>center</td>\n",
              "      <td>vvAgpKy0PL1h8990</td>\n",
              "      <td>Kirsten Gillibrand officially announces White ...</td>\n",
              "      <td>0</td>\n",
              "    </tr>\n",
              "    <tr>\n",
              "      <th>37552</th>\n",
              "      <td>education</td>\n",
              "      <td>Reason</td>\n",
              "      <td>2</td>\n",
              "      <td>Why We Need School Choice: \"Obama Administrati...</td>\n",
              "      <td>2017-01-23</td>\n",
              "      <td>Welcome to National School Choice Week , an an...</td>\n",
              "      <td>right</td>\n",
              "      <td>aWlri1iRio9Q6Rfe</td>\n",
              "      <td>Why We Need School Choice: \"Obama Administrati...</td>\n",
              "      <td>3</td>\n",
              "    </tr>\n",
              "    <tr>\n",
              "      <th>37553</th>\n",
              "      <td>us_congress</td>\n",
              "      <td>Fox Online News</td>\n",
              "      <td>2</td>\n",
              "      <td>McConnell rails against Mueller report politic...</td>\n",
              "      <td>NaN</td>\n",
              "      <td>Senate Majority Leader Mitch McConnell , in a ...</td>\n",
              "      <td>right</td>\n",
              "      <td>3BMrcnVjf3C8Rsgz</td>\n",
              "      <td>McConnell rails against Mueller report politic...</td>\n",
              "      <td>3</td>\n",
              "    </tr>\n",
              "  </tbody>\n",
              "</table>\n",
              "<p>37554 rows × 10 columns</p>\n",
              "</div>\n",
              "    <div class=\"colab-df-buttons\">\n",
              "\n",
              "  <div class=\"colab-df-container\">\n",
              "    <button class=\"colab-df-convert\" onclick=\"convertToInteractive('df-31c02b70-e74c-40ba-86b7-b634e523cf11')\"\n",
              "            title=\"Convert this dataframe to an interactive table.\"\n",
              "            style=\"display:none;\">\n",
              "\n",
              "  <svg xmlns=\"http://www.w3.org/2000/svg\" height=\"24px\" viewBox=\"0 -960 960 960\">\n",
              "    <path d=\"M120-120v-720h720v720H120Zm60-500h600v-160H180v160Zm220 220h160v-160H400v160Zm0 220h160v-160H400v160ZM180-400h160v-160H180v160Zm440 0h160v-160H620v160ZM180-180h160v-160H180v160Zm440 0h160v-160H620v160Z\"/>\n",
              "  </svg>\n",
              "    </button>\n",
              "\n",
              "  <style>\n",
              "    .colab-df-container {\n",
              "      display:flex;\n",
              "      gap: 12px;\n",
              "    }\n",
              "\n",
              "    .colab-df-convert {\n",
              "      background-color: #E8F0FE;\n",
              "      border: none;\n",
              "      border-radius: 50%;\n",
              "      cursor: pointer;\n",
              "      display: none;\n",
              "      fill: #1967D2;\n",
              "      height: 32px;\n",
              "      padding: 0 0 0 0;\n",
              "      width: 32px;\n",
              "    }\n",
              "\n",
              "    .colab-df-convert:hover {\n",
              "      background-color: #E2EBFA;\n",
              "      box-shadow: 0px 1px 2px rgba(60, 64, 67, 0.3), 0px 1px 3px 1px rgba(60, 64, 67, 0.15);\n",
              "      fill: #174EA6;\n",
              "    }\n",
              "\n",
              "    .colab-df-buttons div {\n",
              "      margin-bottom: 4px;\n",
              "    }\n",
              "\n",
              "    [theme=dark] .colab-df-convert {\n",
              "      background-color: #3B4455;\n",
              "      fill: #D2E3FC;\n",
              "    }\n",
              "\n",
              "    [theme=dark] .colab-df-convert:hover {\n",
              "      background-color: #434B5C;\n",
              "      box-shadow: 0px 1px 3px 1px rgba(0, 0, 0, 0.15);\n",
              "      filter: drop-shadow(0px 1px 2px rgba(0, 0, 0, 0.3));\n",
              "      fill: #FFFFFF;\n",
              "    }\n",
              "  </style>\n",
              "\n",
              "    <script>\n",
              "      const buttonEl =\n",
              "        document.querySelector('#df-31c02b70-e74c-40ba-86b7-b634e523cf11 button.colab-df-convert');\n",
              "      buttonEl.style.display =\n",
              "        google.colab.kernel.accessAllowed ? 'block' : 'none';\n",
              "\n",
              "      async function convertToInteractive(key) {\n",
              "        const element = document.querySelector('#df-31c02b70-e74c-40ba-86b7-b634e523cf11');\n",
              "        const dataTable =\n",
              "          await google.colab.kernel.invokeFunction('convertToInteractive',\n",
              "                                                    [key], {});\n",
              "        if (!dataTable) return;\n",
              "\n",
              "        const docLinkHtml = 'Like what you see? Visit the ' +\n",
              "          '<a target=\"_blank\" href=https://colab.research.google.com/notebooks/data_table.ipynb>data table notebook</a>'\n",
              "          + ' to learn more about interactive tables.';\n",
              "        element.innerHTML = '';\n",
              "        dataTable['output_type'] = 'display_data';\n",
              "        await google.colab.output.renderOutput(dataTable, element);\n",
              "        const docLink = document.createElement('div');\n",
              "        docLink.innerHTML = docLinkHtml;\n",
              "        element.appendChild(docLink);\n",
              "      }\n",
              "    </script>\n",
              "  </div>\n",
              "\n",
              "\n",
              "<div id=\"df-e47e3267-9a7e-4a7b-a614-6dcc70f6cdfa\">\n",
              "  <button class=\"colab-df-quickchart\" onclick=\"quickchart('df-e47e3267-9a7e-4a7b-a614-6dcc70f6cdfa')\"\n",
              "            title=\"Suggest charts\"\n",
              "            style=\"display:none;\">\n",
              "\n",
              "<svg xmlns=\"http://www.w3.org/2000/svg\" height=\"24px\"viewBox=\"0 0 24 24\"\n",
              "     width=\"24px\">\n",
              "    <g>\n",
              "        <path d=\"M19 3H5c-1.1 0-2 .9-2 2v14c0 1.1.9 2 2 2h14c1.1 0 2-.9 2-2V5c0-1.1-.9-2-2-2zM9 17H7v-7h2v7zm4 0h-2V7h2v10zm4 0h-2v-4h2v4z\"/>\n",
              "    </g>\n",
              "</svg>\n",
              "  </button>\n",
              "\n",
              "<style>\n",
              "  .colab-df-quickchart {\n",
              "      --bg-color: #E8F0FE;\n",
              "      --fill-color: #1967D2;\n",
              "      --hover-bg-color: #E2EBFA;\n",
              "      --hover-fill-color: #174EA6;\n",
              "      --disabled-fill-color: #AAA;\n",
              "      --disabled-bg-color: #DDD;\n",
              "  }\n",
              "\n",
              "  [theme=dark] .colab-df-quickchart {\n",
              "      --bg-color: #3B4455;\n",
              "      --fill-color: #D2E3FC;\n",
              "      --hover-bg-color: #434B5C;\n",
              "      --hover-fill-color: #FFFFFF;\n",
              "      --disabled-bg-color: #3B4455;\n",
              "      --disabled-fill-color: #666;\n",
              "  }\n",
              "\n",
              "  .colab-df-quickchart {\n",
              "    background-color: var(--bg-color);\n",
              "    border: none;\n",
              "    border-radius: 50%;\n",
              "    cursor: pointer;\n",
              "    display: none;\n",
              "    fill: var(--fill-color);\n",
              "    height: 32px;\n",
              "    padding: 0;\n",
              "    width: 32px;\n",
              "  }\n",
              "\n",
              "  .colab-df-quickchart:hover {\n",
              "    background-color: var(--hover-bg-color);\n",
              "    box-shadow: 0 1px 2px rgba(60, 64, 67, 0.3), 0 1px 3px 1px rgba(60, 64, 67, 0.15);\n",
              "    fill: var(--button-hover-fill-color);\n",
              "  }\n",
              "\n",
              "  .colab-df-quickchart-complete:disabled,\n",
              "  .colab-df-quickchart-complete:disabled:hover {\n",
              "    background-color: var(--disabled-bg-color);\n",
              "    fill: var(--disabled-fill-color);\n",
              "    box-shadow: none;\n",
              "  }\n",
              "\n",
              "  .colab-df-spinner {\n",
              "    border: 2px solid var(--fill-color);\n",
              "    border-color: transparent;\n",
              "    border-bottom-color: var(--fill-color);\n",
              "    animation:\n",
              "      spin 1s steps(1) infinite;\n",
              "  }\n",
              "\n",
              "  @keyframes spin {\n",
              "    0% {\n",
              "      border-color: transparent;\n",
              "      border-bottom-color: var(--fill-color);\n",
              "      border-left-color: var(--fill-color);\n",
              "    }\n",
              "    20% {\n",
              "      border-color: transparent;\n",
              "      border-left-color: var(--fill-color);\n",
              "      border-top-color: var(--fill-color);\n",
              "    }\n",
              "    30% {\n",
              "      border-color: transparent;\n",
              "      border-left-color: var(--fill-color);\n",
              "      border-top-color: var(--fill-color);\n",
              "      border-right-color: var(--fill-color);\n",
              "    }\n",
              "    40% {\n",
              "      border-color: transparent;\n",
              "      border-right-color: var(--fill-color);\n",
              "      border-top-color: var(--fill-color);\n",
              "    }\n",
              "    60% {\n",
              "      border-color: transparent;\n",
              "      border-right-color: var(--fill-color);\n",
              "    }\n",
              "    80% {\n",
              "      border-color: transparent;\n",
              "      border-right-color: var(--fill-color);\n",
              "      border-bottom-color: var(--fill-color);\n",
              "    }\n",
              "    90% {\n",
              "      border-color: transparent;\n",
              "      border-bottom-color: var(--fill-color);\n",
              "    }\n",
              "  }\n",
              "</style>\n",
              "\n",
              "  <script>\n",
              "    async function quickchart(key) {\n",
              "      const quickchartButtonEl =\n",
              "        document.querySelector('#' + key + ' button');\n",
              "      quickchartButtonEl.disabled = true;  // To prevent multiple clicks.\n",
              "      quickchartButtonEl.classList.add('colab-df-spinner');\n",
              "      try {\n",
              "        const charts = await google.colab.kernel.invokeFunction(\n",
              "            'suggestCharts', [key], {});\n",
              "      } catch (error) {\n",
              "        console.error('Error during call to suggestCharts:', error);\n",
              "      }\n",
              "      quickchartButtonEl.classList.remove('colab-df-spinner');\n",
              "      quickchartButtonEl.classList.add('colab-df-quickchart-complete');\n",
              "    }\n",
              "    (() => {\n",
              "      let quickchartButtonEl =\n",
              "        document.querySelector('#df-e47e3267-9a7e-4a7b-a614-6dcc70f6cdfa button');\n",
              "      quickchartButtonEl.style.display =\n",
              "        google.colab.kernel.accessAllowed ? 'block' : 'none';\n",
              "    })();\n",
              "  </script>\n",
              "</div>\n",
              "\n",
              "  <div id=\"id_98da810f-d503-4d47-a003-0fbe66afe159\">\n",
              "    <style>\n",
              "      .colab-df-generate {\n",
              "        background-color: #E8F0FE;\n",
              "        border: none;\n",
              "        border-radius: 50%;\n",
              "        cursor: pointer;\n",
              "        display: none;\n",
              "        fill: #1967D2;\n",
              "        height: 32px;\n",
              "        padding: 0 0 0 0;\n",
              "        width: 32px;\n",
              "      }\n",
              "\n",
              "      .colab-df-generate:hover {\n",
              "        background-color: #E2EBFA;\n",
              "        box-shadow: 0px 1px 2px rgba(60, 64, 67, 0.3), 0px 1px 3px 1px rgba(60, 64, 67, 0.15);\n",
              "        fill: #174EA6;\n",
              "      }\n",
              "\n",
              "      [theme=dark] .colab-df-generate {\n",
              "        background-color: #3B4455;\n",
              "        fill: #D2E3FC;\n",
              "      }\n",
              "\n",
              "      [theme=dark] .colab-df-generate:hover {\n",
              "        background-color: #434B5C;\n",
              "        box-shadow: 0px 1px 3px 1px rgba(0, 0, 0, 0.15);\n",
              "        filter: drop-shadow(0px 1px 2px rgba(0, 0, 0, 0.3));\n",
              "        fill: #FFFFFF;\n",
              "      }\n",
              "    </style>\n",
              "    <button class=\"colab-df-generate\" onclick=\"generateWithVariable('df')\"\n",
              "            title=\"Generate code using this dataframe.\"\n",
              "            style=\"display:none;\">\n",
              "\n",
              "  <svg xmlns=\"http://www.w3.org/2000/svg\" height=\"24px\"viewBox=\"0 0 24 24\"\n",
              "       width=\"24px\">\n",
              "    <path d=\"M7,19H8.4L18.45,9,17,7.55,7,17.6ZM5,21V16.75L18.45,3.32a2,2,0,0,1,2.83,0l1.4,1.43a1.91,1.91,0,0,1,.58,1.4,1.91,1.91,0,0,1-.58,1.4L9.25,21ZM18.45,9,17,7.55Zm-12,3A5.31,5.31,0,0,0,4.9,8.1,5.31,5.31,0,0,0,1,6.5,5.31,5.31,0,0,0,4.9,4.9,5.31,5.31,0,0,0,6.5,1,5.31,5.31,0,0,0,8.1,4.9,5.31,5.31,0,0,0,12,6.5,5.46,5.46,0,0,0,6.5,12Z\"/>\n",
              "  </svg>\n",
              "    </button>\n",
              "    <script>\n",
              "      (() => {\n",
              "      const buttonEl =\n",
              "        document.querySelector('#id_98da810f-d503-4d47-a003-0fbe66afe159 button.colab-df-generate');\n",
              "      buttonEl.style.display =\n",
              "        google.colab.kernel.accessAllowed ? 'block' : 'none';\n",
              "\n",
              "      buttonEl.onclick = () => {\n",
              "        google.colab.notebook.generateWithVariable('df');\n",
              "      }\n",
              "      })();\n",
              "    </script>\n",
              "  </div>\n",
              "\n",
              "    </div>\n",
              "  </div>\n"
            ],
            "application/vnd.google.colaboratory.intrinsic+json": {
              "type": "dataframe",
              "variable_name": "df",
              "summary": "{\n  \"name\": \"df\",\n  \"rows\": 37554,\n  \"fields\": [\n    {\n      \"column\": \"topic\",\n      \"properties\": {\n        \"dtype\": \"category\",\n        \"num_unique_values\": 108,\n        \"samples\": [\n          \"voting_rights_and_voter_fraud\",\n          \"world\",\n          \"capital_punishment_and_death_penalty\"\n        ],\n        \"semantic_type\": \"\",\n        \"description\": \"\"\n      }\n    },\n    {\n      \"column\": \"source\",\n      \"properties\": {\n        \"dtype\": \"category\",\n        \"num_unique_values\": 491,\n        \"samples\": [\n          \"Mitch McConnell\",\n          \"Chicago Sun-Times\",\n          \"The Outline\"\n        ],\n        \"semantic_type\": \"\",\n        \"description\": \"\"\n      }\n    },\n    {\n      \"column\": \"bias\",\n      \"properties\": {\n        \"dtype\": \"number\",\n        \"std\": 0,\n        \"min\": 0,\n        \"max\": 2,\n        \"num_unique_values\": 3,\n        \"samples\": [\n          0,\n          1,\n          2\n        ],\n        \"semantic_type\": \"\",\n        \"description\": \"\"\n      }\n    },\n    {\n      \"column\": \"title\",\n      \"properties\": {\n        \"dtype\": \"string\",\n        \"num_unique_values\": 37554,\n        \"samples\": [\n          \"OPINION: Not All Foreign-Influence Scandals Are Created Equal \",\n          \"Egypt's chief justice sworn in as interim president after Morsi's ouster\",\n          \"OPINION: The Politics of Anything Goes\"\n        ],\n        \"semantic_type\": \"\",\n        \"description\": \"\"\n      }\n    },\n    {\n      \"column\": \"date\",\n      \"properties\": {\n        \"dtype\": \"category\",\n        \"num_unique_values\": 2916,\n        \"samples\": [\n          \"2020-06-06\",\n          \"2018-10-19\",\n          \"2012-11-03\"\n        ],\n        \"semantic_type\": \"\",\n        \"description\": \"\"\n      }\n    },\n    {\n      \"column\": \"content\",\n      \"properties\": {\n        \"dtype\": \"string\",\n        \"num_unique_values\": 37554,\n        \"samples\": [\n          \"Two decades ago , the media weren \\u2019 t obsessed with Chinese interference in a presidential election .\\nThis summer we mark the 20th anniversary of a major investigation by Congress of attempts by a hostile foreign power to influence an American presidential election .\\nI \\u2019 m glad the news media is pursuing the Trump\\u2013Russia scandal , but let \\u2019 s not forget the differences between how they are covering Russia compared with how they reported a similar story \\u2014 this one involving Communist China \\u2014 that developed during Bill Clinton \\u2019 s 1996 reelection campaign . The Washington Post reported in 1998 that \\u201c evidence gathered in federal surveillance intercepts has indicated that the Chinese government planned to increase China \\u2019 s influence in the U.S. political process in 1996 . \\u201d\\nMany people still believe that a major cover-up of that scandal worked \\u2014 in part because the media expressed skepticism and devoted only a fraction of resources they are spending on the Trump\\u2013Russia story . Network reporters expressed outright skepticism of the story , with many openly criticizing the late senator Fred Thompson , the chair of the Senate investigating committee , for wasting time and money . On June 17 , 1997 , Katie Couric , then the Today co-anchor , asked the Washington Post \\u2019 s Bob Woodward about the story : \\u201c Are members of the media , do you think , Bob , too scandal-obsessed , looking for something at every corner ? \\u201d\\nAccording to an analysis by the Media Research Center , the news coverage of the congressional hearings on the China scandal in the summer of 1997 were dwarfed by reports on the murder of fashion designer Gianni Versace and the death of Princess Diana .\\nThe Chinese fundraising scandal involving DNC finance vice chairman John Huang first came to light in the final weeks of the 1996 presidential campaign . A former Commerce Department official , Huang was a top fundraiser who scooped up suspect foreign cash for Team Clinton .\\nA 1998 Senate Government Affairs Committee report on the scandal found \\u201c strong circumstantial evidence \\u201d that a great deal of foreign money had illegally entered the country in an attempt to influence the 1996 election . The DNC was forced to give back more than $ 2.8 million in illegal or improper donations from foreign nationals .\\nThe most suspect funds were brought in by Johnny Chung , a bagman for the Asian billionaire Riady family . Chung confessed that at least $ 35,000 of his donations to the Clinton campaign and the DNC had come from a Chinese aerospace executive \\u2014 a lieutenant colonel in the Chinese military . Chung said the executive had helped him meet three times with General Ji Shengde , the head of Chinese military intelligence . According to Chung \\u2019 s testimony , General Shengde had told him : \\u201c We really like your president . We hope he will be reelected . I will give you $ 300,000 U.S. dollars . You can give it to . . . your president and the Democratic party . \\u201d\\nThe sprawling fundraising scandal ultimately led to 22 guilty pleas on various violations of election laws .\\nThe sprawling fundraising scandal ultimately led to 22 guilty pleas on various violations of election laws . Among the Clinton fundraisers and friends who pleaded guilty were John Huang , Charlie Trie , James Riady , and Michael Brown , son of the late Clinton Commerce secretary Ron Brown . But many questions went unanswered , even after the revelations that Clinton had personally authorized offering donors Oval Office meetings and use of the Lincoln bedroom . A total of 120 participants in the fundraising scandal either fled the country , asserted their Fifth Amendment privilege against self-incrimination , or otherwise avoided questioning . The stonewalling worked \\u2014 and probably encouraged Hillary Clinton in her own cover-up of her private e-mail server and her ties with the Clinton Foundation .\\nIndeed , much of the media basically gave the Clintons a pass on evidence that special-interest donors to the Clinton Foundation frequently managed to score favors from the State Department . Journalist Peter Schweitzer revealed in his book Clinton Cash that State had helped move along an infamous deal that granted the Russians control of more than 20 percent of the uranium production here in the United States . The company involved in acquiring the American uranium was a very large donor to \\u2014 you guessed it \\u2014 the Clinton Foundation .\\nNone of this history should dissuade the media from questioning the White House \\u2019 s often shifting and blatantly inaccurate accounts of what happened and who was involved and when . Either the president \\u2019 s team is infected with a self-destructive gene or they really do have something to hide .\\nBut a little humility and honesty on the part of the media would be appropriate . Much of the breathless and constant coverage of the Russia scandal is motivated by the media \\u2019 s hatred of Donald Trump , which is of course reciprocated .\\nWhen it came to the Clintons , the media tended to downplay or even trivialize many of their scandals .\\nWhen it came to the Clintons , the media tended to downplay or even trivialize many of their scandals . But , to be fair , a little bit of self-awareness is beginning to show up in the Russia coverage . Last Thursday , Mika Brzezinski of MSNBC noted that when it came to \\u201c opening the door \\u201d to lowering the standards of conduct by a modern president , Bill Clinton led the way with his lying and scandalous behavior . She was referring , of course , to the Lewinsky scandal , but her comments are equally appropriate to the many other Clinton scandals that didn \\u2019 t receive wall-to-wall coverage .\\n16 Things You Have to Believe to Buy the \\u2018 Witch Hunt \\u2019 Russia Narrative\",\n          \"The supreme justice of Egypt 's Supreme Constitutional Court was sworn in Thursday as the country \\u2019 s interim president after Mohammed Morsi , the country \\u2019 s first democratically elected president , was ousted and reportedly placed in police custody .\\nAdly Mansour was sworn in at the Constitutional Court in a ceremony broadcast live on state television . Mansour will serve as Egypt 's interim leader until a new president is elected . A date for that vote has yet to be set .\\nMorsi was ousted in what was described by the presidential palace as a `` complete military coup . '' The White House has not labeled Morsi ouster a a coup . Doing so would have U.S. aid implications .\\nThe leader of Egypt 's military ousted Morsi from office and replaced him with Mansour late Wednesday evening . The presidential palace immediately branded the move a `` complete military coup . ''\\nA ranking officer in Egypt 's military described the scene to The New York Times . He said , `` We are disciplined , and we have the weapons . That 's what 's on the market right now . Do you see any other solid institution on the scene ? ''\\nIn his first remarks , Mansour praised the massive street demonstrations that led to Morsi 's ouster . He also hailed the youth behind the protests that began on June 30 , saying they embodied `` the nation 's conscience , its ambitions and hopes . ''\\n`` The most glorious thing about June 30 is that it brought together everyone without discrimination or division , '' he said . `` I offer my greetings to the revolutionary people of Egypt . ''\\nManosur 's assumption of office comes a day after the military deposed Morsi , who took office a year ago as Egypt 's first democratically elected president . Morsi was in police custody on Thursday morning after he refused to step down on the orders of Gen. Abdel Fattah Al Sisi .\\nAhmed Aref , a spokesman for the Muslim Brotherhood party , told Reuters both Morsi and an aide were being held but he did n't know their location . A security official said they were at a military intelligence facility , Reuters reported .\\nIn announcing Morsi 's ouster earlier Wednesday , Egypt 's top military commander said he had been replaced by the chief justice of the constitutional court as interim head of state .\\nIn addition , Gen. Abdel-Fattah el-Sissi said the country 's constitution has been temporarily suspended and new elections would be held .\\nAt least 14 people were killed in clashes between Morsi 's supporters and opponents following the announcement , Reuters said , citing the state news agency MENA . Egyptian troops , including commandos in full combat gear , were deployed across much of Cairo , including at key facilities , on bridges over the Nile River and at major intersections\\nEight of the dead were reported to be in the northern city of Marsa Matrouh , with three killed and at least 50 wounded in Alexandria . Another three were killed in the southern city of Minya .\\nIn Washington , President Obama issued a statement Wednesday night saying the administration was `` deeply concerned '' by the decision to remove Morsi and urged the military to avoid `` any arbitrary arrests '' of the president and his supporters .\\nObama also said in light of Morsi 's ouster he had `` directed the relevant departments and agencies to review the implications under U.S. law for our assistance to the government of Egypt . ''\\nAt the same time , a security official in Cairo said the head of Morsi 's Muslim Brotherhood political party and the organization 's deputy chief had been arrested , reportedly in connection with an escape from prison in 2011 .\\nThe state-run newspaper Al-Ahram said arrest warrants were being issued for 300 members of the Brotherhood , Reuters reported .\\nMillions of anti-Morsi protesters in Tahrir Square and around the country erupted in cheers at the news of Morsi 's ouster , setting off fireworks and shouting `` God is great '' and `` Long live Egypt . ''\\nMorsi said on his presidential Facebook page that the military 's action `` represents a military coup and it is unacceptable . ''\\nA U.S. official said nonessential diplomats and embassy families had been ordered to leave Egypt amid the unrest . The State Department issued a warning urging U.S. citizens in the country to leave .\\nWitnesses told Reuters that the army erected barbed wire and barriers around Morsi 's work compound , and moved in vehicles and troops to prevent supporters from getting to his palace .\",\n          \"Barack Obama first captured the national spotlight with a speech at the 2004 Democratic Convention in Boston in which he called for an end to the politics of division . The audience roared back its applause at the end of almost every line :\\nNow even as we speak , there are those who are preparing to divide us , the spin masters and negative ad peddlers who embrace the politics of anything goes . Well , I say to them tonight , there \\u2019 s not a liberal America and a conservative America ; there \\u2019 s the United States of America . There \\u2019 s not a black America and white America and Latino America and Asian America ; there \\u2019 s the United States of America .\\none people , all of us pledging allegiance to the stars and stripes , all of us defending the United States of America . In the end , that \\u2019 s what this election is about . Do we participate in a politics of cynicism , or do we participate in a politics of hope ?\\nNow , faced with a tough re-election fight , President Obama has , in fundamental respects , adopted the strategy he denounced eight years ago .\\nHe is running a two-track campaign . One track of his re-election drive seeks to boost turnout among core liberal groups ; the other aims to suppress turnout and minimize his margin of defeat in the most hostile segment of the electorate , whites without college degrees .\\nThis approach assumes a highly polarized electorate and tries to make the best of it .\\nOn his campaign web site , Obama singles out 16 specific target constituencies under \\u201c groups. \\u201d Some are listed because it would be politically damaging to fail to include them : People of Faith ; Veterans and Military Families ; Rural Americans ; Seniors ; and Small Business Owners .\\nOthers make up the heart of the liberal-left coalition : African Americans , Environmentalists , Latinos , Young Americans , LGBT Americans , Native Americans , Asian-Americans and Pacific Islanders , Educators , Jewish Americans , Nurses and Women .\\nObama is actively courting all of these constituencies : ending the deportation of many young workers who are in the United States illegally ; endorsing same-sex marriage ; loosening work requirements for welfare recipients ; pressing Congress to keep student loan rates low ; rejecting the proposal to build the northern portion of the 1,700 mile Keystone pipeline from Canada to Texas ; and promoting health-care reform that requires insurance plans to fully cover birth control without co-pays or deductibles .\\nInterestingly , the Obama campaign is not spending the lion \\u2019 s share of its money on these groups . Instead , Obama \\u2019 s television ads , at $ 65.6 million the biggest cost of his re-election bid so far , are overwhelmingly aimed at discrediting Mitt Romney .\\nThe negative ads run by the Obama campaign and its allied \\u201c super PAC , \\u201d Priorities USA \\u2014 ads demonizing Romney \\u2014 target not only whites without college degrees , but in particular white men without degrees , a constituency Obama has no hope of winning .\\nThe two anti-Romney commercials that appear to have resonated most powerfully , according to measures of YouTube views , are explicitly aimed at these voters .\\nRomney is particularly vulnerable to a campaign designed to suppress turnout because his support is more tepid than Obama \\u2019 s .\\nThe Priorities USA ad titled \\u201c Stage \\u201d \\u2014 with over 1.4 million views \\u2014 is narrated by Mike Earnest , a middle-aged white working-class man . He describes building a stage at a paper plant in Marion , Ind. , that was in operation 24 hours a day . Shortly afterward , workers from all three shifts were called in . \\u201c A group of people walked out on that stage and told us that the plant is now closed and all of you are fired , \\u201d Earnest says . \\u201c Mitt Romney made over $ 100 million by shutting down our plant and devastated our lives . Turns out when we build that stage it was like building our own coffin , and it just makes me sick . \\u201d\\nAn Obama ad , \\u201c Firms \\u201d with over 1.9 million views , shows Romney singing \\u201c America the Beautiful \\u201d at The Villages , a Florida retirement community . The screen shifts from Romney to images of shuttered factories and empty office rooms , overlaid with a series of headlines , \\u201c In Business , Mitt Romney \\u2019 s Firms Shipped Jobs to Mexico and China , \\u201d \\u201c He Had Millions in a Swiss Bank Account , \\u201d \\u201c Tax Havens Like Bermuda and the Cayman Islands . \\u201d\\nObama \\u2019 s current level of support from white men without college degrees is so low that \\u201c if sustained through Election Day , \\u201d it \\u201c would represent a modern nadir for Democrats , \\u201d Ron Brownstein pointed out earlier this month in the National Journal . Brownstein cited a Quinnipiac poll showing Romney beating Obama 56-29 and a Washington Post/ABC survey putting the contest at 65 for Romney , 28 for Obama among these voters .\\nA central goal of the anti-Romney commercials is to cross-pressure these whites . Persuading more than 28 percent of them to vote for Obama is a tough sell , but the Obama campaign can try to make the alternative , voting for Romney , equally unacceptable . Conflicted voters , especially those holding negative views of both candidates , are likely to skip voting altogether .\\nIn 2004 , for example , in a tactic designed to decrease black turnout , the Bush campaign sent deeply religious black voters mail and email noting Democratic support for same-sex civil unions , with the goal of creating ambivalence toward Senator John F. Kerry . Over the past two years , Republican-controlled state legislatures have been conducting an aggressive vote-suppression strategy of their own through the passage of voter identification laws and laws imposing harsh restrictions on voter registration drives .\\nWhen a top Pennsylvania Republican remarked last month that the state \\u2019 s new voter ID law would help Mitt Romney win Pennsylvania in November , which no Republican presidential candidate has done since 1988 , he reignited a debate over whether the law is intended to curb fraud , as Republicans say , or to depress Democratic turnout , as critics charge .\\nMike Turzai , the House majority leader in Pennsylvania , made the remark when he spoke to a meeting of the Republican State Committee . He ticked off a number of recent conservative achievements by the Republican-led legislature , including , as Turzai put it , \\u201c Voter ID , which is going to allow Governor Romney to win the state of Pennsylvania , done . \\u201d\\nArthur Lupia , a political scientist at the University of Michigan , has demonstrated that in 2008 , even if Obama had failed to boost turnout among key Democratic groups , he would have won because of the failure of many 2004 George W. Bush supporters to vote for John McCain . \\u201c Bush voters \\u2019 decisions not to vote or to support Obama were a sufficient condition for Obama \\u2019 s victory , \\u201d Lupia wrote in \\u201c Did Bush Voters Cause Obama \\u2019 s Victory ? \\u201d a paper published in PS , the journal of the American Political Science Association .\\nRomney and the Republican Party must achieve the highest possible turnout level among whites . Republicans , including Romney , have adopted anti-immigration stands that have extinguished the possibility of boosting margins among Hispanics . Asian Americans have become increasingly Democratic , self-identifying in public opinion surveys as Democratic rather than Republican by a 52-32 margin . African Americans remain reliably loyal to the Democratic Party by an 86 to 8 percent margin .\\nRomney is particularly vulnerable to a campaign designed to suppress turnout because his support is more tepid than Obama \\u2019 s .\\nA New York Times/CBS poll released on Wednesday found that 52 percent of Obama voters back their candidate strongly , compared to 29 percent of Romney voters . In addition , a third of Romney \\u2019 s voters say they are voting for him because of their dislike of Obama , while only 8 percent of Obama voters are primarily motivated by their hostility to Romney .\\nVote suppression is important for Obama because his numbers among whites without degrees are worsening , despite the omnipresence of anti-Romney ads in the battleground states . Obama \\u2019 s 29 percent level of support among non-college white men in the Quinnipiac poll cited above is a drop from 32 percent in its April survey , and the 28 percent level in the ABC/Washington Post poll is a drop from 34 percent in their May survey .\\nWith his margins in this group falling , Obama directly benefits from every white non-college voter who stays home and does not vote for Romney . The importance of vote suppression in a close contest can be seen in the following hypothetical : say there are 1,000 voters evenly split , 500 to 500 . Candidate A persuades just one of the voters backing his opponent to fail to go to the polls . Candidate A wins 500 to 499 .\\nFor Obama , hurdles in recruiting whites without a college degree are particularly high because of the employment patterns illustrated in this chart produced by RBC Capital Markets , which shows the devastating consequences of the 2008 financial collapse for non-college workers .\\nVoters of all races and ethnicities without college have taken a hit in the job market ; politically , however , the drop in employment is most damaging to Obama among whites . African Americans without college degrees are not only loyal to the Democratic Party , but the election puts at risk a second term for the nation \\u2019 s first black president . Hispanics without college have a president who has taken a liberal stand on immigration reform , backed the DREAM Act and appointed the first Hispanic justice , Sonia Sotomayor , to the Supreme Court .\\nThe problems Obama and the Democratic Party face with white non-college voters have deep roots . A study conducted by political consulting firm CRG Communications for the Democratic National Committee in 1985 reached conclusions about the defection of working class whites to the Republican Party that remain relevant in 2012 . CRG reported that these defectors believed that :\\nthe Democratic Party has not stood with them as they moved from the working to the middle class . They have a whole set of middle class economic problems today , and the Democratic Party is not helping them . Instead it is helping the blacks , Hispanics and the poor . They feel betrayed .\\nLooked at this way , CRG reported , key Democratic constituencies \\u2014 affluent liberals , gay rights activists , ethnic and racial minorities \\u2014 were \\u201c leaving the \\u2018 common man \\u2019 out of the picture . \\u201d\\nDemographic trends \\u2014 the steady decline of the share of the population made up of non-college whites , from 86 percent in 1940 to 48 percent in 2007 \\u2013 have made winning these voters by increasingly large margins crucial to the Republican Party , while diminishing the Democratic Party \\u2019 s need for their support .\\nThe 2012 election will be another test of strength in the decade-long competition between this white voting bloc \\u2014 which dominated in 2002 , 2004 and 2010 \\u2014 and such ascendant Democratic constituencies as Hispanics , college-educated women and young voters , who flexed their muscles in 2006 and 2008 .\\nThomas B. Edsall , a professor of journalism at Columbia University , is the author of the book \\u201c The Age of Austerity : How Scarcity Will Remake American Politics , \\u201d which was published earlier this year .\"\n        ],\n        \"semantic_type\": \"\",\n        \"description\": \"\"\n      }\n    },\n    {\n      \"column\": \"bias_text\",\n      \"properties\": {\n        \"dtype\": \"category\",\n        \"num_unique_values\": 4,\n        \"samples\": [\n          \"center\",\n          \"n4BSawmUfSId5MY0\",\n          \"left\"\n        ],\n        \"semantic_type\": \"\",\n        \"description\": \"\"\n      }\n    },\n    {\n      \"column\": \"ID\",\n      \"properties\": {\n        \"dtype\": \"string\",\n        \"num_unique_values\": 37553,\n        \"samples\": [\n          \"ViRBmCcc8rh6vcbj\",\n          \"V2r7sepx5abwI9gK\",\n          \"gqrRWuYJWdEcXHaF\"\n        ],\n        \"semantic_type\": \"\",\n        \"description\": \"\"\n      }\n    },\n    {\n      \"column\": \"text\",\n      \"properties\": {\n        \"dtype\": \"string\",\n        \"num_unique_values\": 37554,\n        \"samples\": [\n          \"OPINION: Not All Foreign-Influence Scandals Are Created Equal  Two decades ago , the media weren \\u2019 t obsessed with Chinese interference in a presidential election .\\nThis summer we mark the 20th anniversary of a major investigation by Congress of attempts by a hostile foreign power to influence an American presidential election .\\nI \\u2019 m glad the news media is pursuing the Trump\\u2013Russia scandal , but let \\u2019 s not forget the differences between how they are covering Russia compared with how they reported a similar story \\u2014 this one involving Communist China \\u2014 that developed during Bill Clinton \\u2019 s 1996 reelection campaign . The Washington Post reported in 1998 that \\u201c evidence gathered in federal surveillance intercepts has indicated that the Chinese government planned to increase China \\u2019 s influence in the U.S. political process in 1996 . \\u201d\\nMany people still believe that a major cover-up of that scandal worked \\u2014 in part because the media expressed skepticism and devoted only a fraction of resources they are spending on the Trump\\u2013Russia story . Network reporters expressed outright skepticism of the story , with many openly criticizing the late senator Fred Thompson , the chair of the Senate investigating committee , for wasting time and money . On June 17 , 1997 , Katie Couric , then the Today co-anchor , asked the Washington Post \\u2019 s Bob Woodward about the story : \\u201c Are members of the media , do you think , Bob , too scandal-obsessed , looking for something at every corner ? \\u201d\\nAccording to an analysis by the Media Research Center , the news coverage of the congressional hearings on the China scandal in the summer of 1997 were dwarfed by reports on the murder of fashion designer Gianni Versace and the death of Princess Diana .\\nThe Chinese fundraising scandal involving DNC finance vice chairman John Huang first came to light in the final weeks of the 1996 presidential campaign . A former Commerce Department official , Huang was a top fundraiser who scooped up suspect foreign cash for Team Clinton .\\nA 1998 Senate Government Affairs Committee report on the scandal found \\u201c strong circumstantial evidence \\u201d that a great deal of foreign money had illegally entered the country in an attempt to influence the 1996 election . The DNC was forced to give back more than $ 2.8 million in illegal or improper donations from foreign nationals .\\nThe most suspect funds were brought in by Johnny Chung , a bagman for the Asian billionaire Riady family . Chung confessed that at least $ 35,000 of his donations to the Clinton campaign and the DNC had come from a Chinese aerospace executive \\u2014 a lieutenant colonel in the Chinese military . Chung said the executive had helped him meet three times with General Ji Shengde , the head of Chinese military intelligence . According to Chung \\u2019 s testimony , General Shengde had told him : \\u201c We really like your president . We hope he will be reelected . I will give you $ 300,000 U.S. dollars . You can give it to . . . your president and the Democratic party . \\u201d\\nThe sprawling fundraising scandal ultimately led to 22 guilty pleas on various violations of election laws .\\nThe sprawling fundraising scandal ultimately led to 22 guilty pleas on various violations of election laws . Among the Clinton fundraisers and friends who pleaded guilty were John Huang , Charlie Trie , James Riady , and Michael Brown , son of the late Clinton Commerce secretary Ron Brown . But many questions went unanswered , even after the revelations that Clinton had personally authorized offering donors Oval Office meetings and use of the Lincoln bedroom . A total of 120 participants in the fundraising scandal either fled the country , asserted their Fifth Amendment privilege against self-incrimination , or otherwise avoided questioning . The stonewalling worked \\u2014 and probably encouraged Hillary Clinton in her own cover-up of her private e-mail server and her ties with the Clinton Foundation .\\nIndeed , much of the media basically gave the Clintons a pass on evidence that special-interest donors to the Clinton Foundation frequently managed to score favors from the State Department . Journalist Peter Schweitzer revealed in his book Clinton Cash that State had helped move along an infamous deal that granted the Russians control of more than 20 percent of the uranium production here in the United States . The company involved in acquiring the American uranium was a very large donor to \\u2014 you guessed it \\u2014 the Clinton Foundation .\\nNone of this history should dissuade the media from questioning the White House \\u2019 s often shifting and blatantly inaccurate accounts of what happened and who was involved and when . Either the president \\u2019 s team is infected with a self-destructive gene or they really do have something to hide .\\nBut a little humility and honesty on the part of the media would be appropriate . Much of the breathless and constant coverage of the Russia scandal is motivated by the media \\u2019 s hatred of Donald Trump , which is of course reciprocated .\\nWhen it came to the Clintons , the media tended to downplay or even trivialize many of their scandals .\\nWhen it came to the Clintons , the media tended to downplay or even trivialize many of their scandals . But , to be fair , a little bit of self-awareness is beginning to show up in the Russia coverage . Last Thursday , Mika Brzezinski of MSNBC noted that when it came to \\u201c opening the door \\u201d to lowering the standards of conduct by a modern president , Bill Clinton led the way with his lying and scandalous behavior . She was referring , of course , to the Lewinsky scandal , but her comments are equally appropriate to the many other Clinton scandals that didn \\u2019 t receive wall-to-wall coverage .\\n16 Things You Have to Believe to Buy the \\u2018 Witch Hunt \\u2019 Russia Narrative\",\n          \"Egypt's chief justice sworn in as interim president after Morsi's ouster The supreme justice of Egypt 's Supreme Constitutional Court was sworn in Thursday as the country \\u2019 s interim president after Mohammed Morsi , the country \\u2019 s first democratically elected president , was ousted and reportedly placed in police custody .\\nAdly Mansour was sworn in at the Constitutional Court in a ceremony broadcast live on state television . Mansour will serve as Egypt 's interim leader until a new president is elected . A date for that vote has yet to be set .\\nMorsi was ousted in what was described by the presidential palace as a `` complete military coup . '' The White House has not labeled Morsi ouster a a coup . Doing so would have U.S. aid implications .\\nThe leader of Egypt 's military ousted Morsi from office and replaced him with Mansour late Wednesday evening . The presidential palace immediately branded the move a `` complete military coup . ''\\nA ranking officer in Egypt 's military described the scene to The New York Times . He said , `` We are disciplined , and we have the weapons . That 's what 's on the market right now . Do you see any other solid institution on the scene ? ''\\nIn his first remarks , Mansour praised the massive street demonstrations that led to Morsi 's ouster . He also hailed the youth behind the protests that began on June 30 , saying they embodied `` the nation 's conscience , its ambitions and hopes . ''\\n`` The most glorious thing about June 30 is that it brought together everyone without discrimination or division , '' he said . `` I offer my greetings to the revolutionary people of Egypt . ''\\nManosur 's assumption of office comes a day after the military deposed Morsi , who took office a year ago as Egypt 's first democratically elected president . Morsi was in police custody on Thursday morning after he refused to step down on the orders of Gen. Abdel Fattah Al Sisi .\\nAhmed Aref , a spokesman for the Muslim Brotherhood party , told Reuters both Morsi and an aide were being held but he did n't know their location . A security official said they were at a military intelligence facility , Reuters reported .\\nIn announcing Morsi 's ouster earlier Wednesday , Egypt 's top military commander said he had been replaced by the chief justice of the constitutional court as interim head of state .\\nIn addition , Gen. Abdel-Fattah el-Sissi said the country 's constitution has been temporarily suspended and new elections would be held .\\nAt least 14 people were killed in clashes between Morsi 's supporters and opponents following the announcement , Reuters said , citing the state news agency MENA . Egyptian troops , including commandos in full combat gear , were deployed across much of Cairo , including at key facilities , on bridges over the Nile River and at major intersections\\nEight of the dead were reported to be in the northern city of Marsa Matrouh , with three killed and at least 50 wounded in Alexandria . Another three were killed in the southern city of Minya .\\nIn Washington , President Obama issued a statement Wednesday night saying the administration was `` deeply concerned '' by the decision to remove Morsi and urged the military to avoid `` any arbitrary arrests '' of the president and his supporters .\\nObama also said in light of Morsi 's ouster he had `` directed the relevant departments and agencies to review the implications under U.S. law for our assistance to the government of Egypt . ''\\nAt the same time , a security official in Cairo said the head of Morsi 's Muslim Brotherhood political party and the organization 's deputy chief had been arrested , reportedly in connection with an escape from prison in 2011 .\\nThe state-run newspaper Al-Ahram said arrest warrants were being issued for 300 members of the Brotherhood , Reuters reported .\\nMillions of anti-Morsi protesters in Tahrir Square and around the country erupted in cheers at the news of Morsi 's ouster , setting off fireworks and shouting `` God is great '' and `` Long live Egypt . ''\\nMorsi said on his presidential Facebook page that the military 's action `` represents a military coup and it is unacceptable . ''\\nA U.S. official said nonessential diplomats and embassy families had been ordered to leave Egypt amid the unrest . The State Department issued a warning urging U.S. citizens in the country to leave .\\nWitnesses told Reuters that the army erected barbed wire and barriers around Morsi 's work compound , and moved in vehicles and troops to prevent supporters from getting to his palace .\",\n          \"OPINION: The Politics of Anything Goes Barack Obama first captured the national spotlight with a speech at the 2004 Democratic Convention in Boston in which he called for an end to the politics of division . The audience roared back its applause at the end of almost every line :\\nNow even as we speak , there are those who are preparing to divide us , the spin masters and negative ad peddlers who embrace the politics of anything goes . Well , I say to them tonight , there \\u2019 s not a liberal America and a conservative America ; there \\u2019 s the United States of America . There \\u2019 s not a black America and white America and Latino America and Asian America ; there \\u2019 s the United States of America .\\none people , all of us pledging allegiance to the stars and stripes , all of us defending the United States of America . In the end , that \\u2019 s what this election is about . Do we participate in a politics of cynicism , or do we participate in a politics of hope ?\\nNow , faced with a tough re-election fight , President Obama has , in fundamental respects , adopted the strategy he denounced eight years ago .\\nHe is running a two-track campaign . One track of his re-election drive seeks to boost turnout among core liberal groups ; the other aims to suppress turnout and minimize his margin of defeat in the most hostile segment of the electorate , whites without college degrees .\\nThis approach assumes a highly polarized electorate and tries to make the best of it .\\nOn his campaign web site , Obama singles out 16 specific target constituencies under \\u201c groups. \\u201d Some are listed because it would be politically damaging to fail to include them : People of Faith ; Veterans and Military Families ; Rural Americans ; Seniors ; and Small Business Owners .\\nOthers make up the heart of the liberal-left coalition : African Americans , Environmentalists , Latinos , Young Americans , LGBT Americans , Native Americans , Asian-Americans and Pacific Islanders , Educators , Jewish Americans , Nurses and Women .\\nObama is actively courting all of these constituencies : ending the deportation of many young workers who are in the United States illegally ; endorsing same-sex marriage ; loosening work requirements for welfare recipients ; pressing Congress to keep student loan rates low ; rejecting the proposal to build the northern portion of the 1,700 mile Keystone pipeline from Canada to Texas ; and promoting health-care reform that requires insurance plans to fully cover birth control without co-pays or deductibles .\\nInterestingly , the Obama campaign is not spending the lion \\u2019 s share of its money on these groups . Instead , Obama \\u2019 s television ads , at $ 65.6 million the biggest cost of his re-election bid so far , are overwhelmingly aimed at discrediting Mitt Romney .\\nThe negative ads run by the Obama campaign and its allied \\u201c super PAC , \\u201d Priorities USA \\u2014 ads demonizing Romney \\u2014 target not only whites without college degrees , but in particular white men without degrees , a constituency Obama has no hope of winning .\\nThe two anti-Romney commercials that appear to have resonated most powerfully , according to measures of YouTube views , are explicitly aimed at these voters .\\nRomney is particularly vulnerable to a campaign designed to suppress turnout because his support is more tepid than Obama \\u2019 s .\\nThe Priorities USA ad titled \\u201c Stage \\u201d \\u2014 with over 1.4 million views \\u2014 is narrated by Mike Earnest , a middle-aged white working-class man . He describes building a stage at a paper plant in Marion , Ind. , that was in operation 24 hours a day . Shortly afterward , workers from all three shifts were called in . \\u201c A group of people walked out on that stage and told us that the plant is now closed and all of you are fired , \\u201d Earnest says . \\u201c Mitt Romney made over $ 100 million by shutting down our plant and devastated our lives . Turns out when we build that stage it was like building our own coffin , and it just makes me sick . \\u201d\\nAn Obama ad , \\u201c Firms \\u201d with over 1.9 million views , shows Romney singing \\u201c America the Beautiful \\u201d at The Villages , a Florida retirement community . The screen shifts from Romney to images of shuttered factories and empty office rooms , overlaid with a series of headlines , \\u201c In Business , Mitt Romney \\u2019 s Firms Shipped Jobs to Mexico and China , \\u201d \\u201c He Had Millions in a Swiss Bank Account , \\u201d \\u201c Tax Havens Like Bermuda and the Cayman Islands . \\u201d\\nObama \\u2019 s current level of support from white men without college degrees is so low that \\u201c if sustained through Election Day , \\u201d it \\u201c would represent a modern nadir for Democrats , \\u201d Ron Brownstein pointed out earlier this month in the National Journal . Brownstein cited a Quinnipiac poll showing Romney beating Obama 56-29 and a Washington Post/ABC survey putting the contest at 65 for Romney , 28 for Obama among these voters .\\nA central goal of the anti-Romney commercials is to cross-pressure these whites . Persuading more than 28 percent of them to vote for Obama is a tough sell , but the Obama campaign can try to make the alternative , voting for Romney , equally unacceptable . Conflicted voters , especially those holding negative views of both candidates , are likely to skip voting altogether .\\nIn 2004 , for example , in a tactic designed to decrease black turnout , the Bush campaign sent deeply religious black voters mail and email noting Democratic support for same-sex civil unions , with the goal of creating ambivalence toward Senator John F. Kerry . Over the past two years , Republican-controlled state legislatures have been conducting an aggressive vote-suppression strategy of their own through the passage of voter identification laws and laws imposing harsh restrictions on voter registration drives .\\nWhen a top Pennsylvania Republican remarked last month that the state \\u2019 s new voter ID law would help Mitt Romney win Pennsylvania in November , which no Republican presidential candidate has done since 1988 , he reignited a debate over whether the law is intended to curb fraud , as Republicans say , or to depress Democratic turnout , as critics charge .\\nMike Turzai , the House majority leader in Pennsylvania , made the remark when he spoke to a meeting of the Republican State Committee . He ticked off a number of recent conservative achievements by the Republican-led legislature , including , as Turzai put it , \\u201c Voter ID , which is going to allow Governor Romney to win the state of Pennsylvania , done . \\u201d\\nArthur Lupia , a political scientist at the University of Michigan , has demonstrated that in 2008 , even if Obama had failed to boost turnout among key Democratic groups , he would have won because of the failure of many 2004 George W. Bush supporters to vote for John McCain . \\u201c Bush voters \\u2019 decisions not to vote or to support Obama were a sufficient condition for Obama \\u2019 s victory , \\u201d Lupia wrote in \\u201c Did Bush Voters Cause Obama \\u2019 s Victory ? \\u201d a paper published in PS , the journal of the American Political Science Association .\\nRomney and the Republican Party must achieve the highest possible turnout level among whites . Republicans , including Romney , have adopted anti-immigration stands that have extinguished the possibility of boosting margins among Hispanics . Asian Americans have become increasingly Democratic , self-identifying in public opinion surveys as Democratic rather than Republican by a 52-32 margin . African Americans remain reliably loyal to the Democratic Party by an 86 to 8 percent margin .\\nRomney is particularly vulnerable to a campaign designed to suppress turnout because his support is more tepid than Obama \\u2019 s .\\nA New York Times/CBS poll released on Wednesday found that 52 percent of Obama voters back their candidate strongly , compared to 29 percent of Romney voters . In addition , a third of Romney \\u2019 s voters say they are voting for him because of their dislike of Obama , while only 8 percent of Obama voters are primarily motivated by their hostility to Romney .\\nVote suppression is important for Obama because his numbers among whites without degrees are worsening , despite the omnipresence of anti-Romney ads in the battleground states . Obama \\u2019 s 29 percent level of support among non-college white men in the Quinnipiac poll cited above is a drop from 32 percent in its April survey , and the 28 percent level in the ABC/Washington Post poll is a drop from 34 percent in their May survey .\\nWith his margins in this group falling , Obama directly benefits from every white non-college voter who stays home and does not vote for Romney . The importance of vote suppression in a close contest can be seen in the following hypothetical : say there are 1,000 voters evenly split , 500 to 500 . Candidate A persuades just one of the voters backing his opponent to fail to go to the polls . Candidate A wins 500 to 499 .\\nFor Obama , hurdles in recruiting whites without a college degree are particularly high because of the employment patterns illustrated in this chart produced by RBC Capital Markets , which shows the devastating consequences of the 2008 financial collapse for non-college workers .\\nVoters of all races and ethnicities without college have taken a hit in the job market ; politically , however , the drop in employment is most damaging to Obama among whites . African Americans without college degrees are not only loyal to the Democratic Party , but the election puts at risk a second term for the nation \\u2019 s first black president . Hispanics without college have a president who has taken a liberal stand on immigration reform , backed the DREAM Act and appointed the first Hispanic justice , Sonia Sotomayor , to the Supreme Court .\\nThe problems Obama and the Democratic Party face with white non-college voters have deep roots . A study conducted by political consulting firm CRG Communications for the Democratic National Committee in 1985 reached conclusions about the defection of working class whites to the Republican Party that remain relevant in 2012 . CRG reported that these defectors believed that :\\nthe Democratic Party has not stood with them as they moved from the working to the middle class . They have a whole set of middle class economic problems today , and the Democratic Party is not helping them . Instead it is helping the blacks , Hispanics and the poor . They feel betrayed .\\nLooked at this way , CRG reported , key Democratic constituencies \\u2014 affluent liberals , gay rights activists , ethnic and racial minorities \\u2014 were \\u201c leaving the \\u2018 common man \\u2019 out of the picture . \\u201d\\nDemographic trends \\u2014 the steady decline of the share of the population made up of non-college whites , from 86 percent in 1940 to 48 percent in 2007 \\u2013 have made winning these voters by increasingly large margins crucial to the Republican Party , while diminishing the Democratic Party \\u2019 s need for their support .\\nThe 2012 election will be another test of strength in the decade-long competition between this white voting bloc \\u2014 which dominated in 2002 , 2004 and 2010 \\u2014 and such ascendant Democratic constituencies as Hispanics , college-educated women and young voters , who flexed their muscles in 2006 and 2008 .\\nThomas B. Edsall , a professor of journalism at Columbia University , is the author of the book \\u201c The Age of Austerity : How Scarcity Will Remake American Politics , \\u201d which was published earlier this year .\"\n        ],\n        \"semantic_type\": \"\",\n        \"description\": \"\"\n      }\n    },\n    {\n      \"column\": \"bias_label\",\n      \"properties\": {\n        \"dtype\": \"number\",\n        \"std\": 1,\n        \"min\": 0,\n        \"max\": 3,\n        \"num_unique_values\": 4,\n        \"samples\": [\n          0,\n          2,\n          1\n        ],\n        \"semantic_type\": \"\",\n        \"description\": \"\"\n      }\n    }\n  ]\n}"
            }
          },
          "metadata": {},
          "execution_count": 8
        }
      ]
    },
    {
      "cell_type": "code",
      "source": [
        "# Encode labels for bias ('left', 'center', 'right')\n",
        "label_encoder_bias = LabelEncoder()\n",
        "df['bias_label'] = label_encoder_bias.fit_transform(df['bias_text'])\n",
        "\n",
        "# Display label mappings for bias\n",
        "print(\"Bias label mappings:\", dict(enumerate(label_encoder_bias.classes_)))"
      ],
      "metadata": {
        "colab": {
          "base_uri": "https://localhost:8080/"
        },
        "id": "6lce0gA2zOsU",
        "outputId": "f0762cda-5646-43a1-8b35-ab3df46cc1cf"
      },
      "execution_count": null,
      "outputs": [
        {
          "output_type": "stream",
          "name": "stdout",
          "text": [
            "Bias label mappings: {0: 'center', 1: 'left', 2: 'n4BSawmUfSId5MY0', 3: 'right'}\n"
          ]
        }
      ]
    },
    {
      "cell_type": "code",
      "source": [
        "# Check unique values in the bias_text column\n",
        "print(df['bias_text'].unique())\n"
      ],
      "metadata": {
        "colab": {
          "base_uri": "https://localhost:8080/"
        },
        "id": "R13iH82r0XqX",
        "outputId": "0b839ff4-38d7-43cd-d06c-d935430531df"
      },
      "execution_count": null,
      "outputs": [
        {
          "output_type": "stream",
          "name": "stdout",
          "text": [
            "['left' 'center' 'right' 'n4BSawmUfSId5MY0']\n"
          ]
        }
      ]
    },
    {
      "cell_type": "code",
      "source": [
        "# Drop entries where bias_text is 'n4BSawmUfSId5MY0'\n",
        "df = df[df['bias_text'] != 'n4BSawmUfSId5MY0']"
      ],
      "metadata": {
        "id": "NDhF_zjM0m74"
      },
      "execution_count": null,
      "outputs": []
    },
    {
      "cell_type": "code",
      "source": [
        "print(df['bias_text'].unique())"
      ],
      "metadata": {
        "colab": {
          "base_uri": "https://localhost:8080/"
        },
        "id": "fmY_pNHv0oGB",
        "outputId": "4f709b19-73ae-4023-e8a6-b7fff1443811"
      },
      "execution_count": null,
      "outputs": [
        {
          "output_type": "stream",
          "name": "stdout",
          "text": [
            "['left' 'center' 'right']\n"
          ]
        }
      ]
    },
    {
      "cell_type": "code",
      "source": [
        "# Encode labels for bias ('left', 'center', 'right')\n",
        "label_encoder_bias = LabelEncoder()\n",
        "df['bias_label'] = label_encoder_bias.fit_transform(df['bias_text'])\n",
        "\n",
        "# Display label mappings for bias\n",
        "print(\"Bias label mappings:\", dict(enumerate(label_encoder_bias.classes_)))"
      ],
      "metadata": {
        "colab": {
          "base_uri": "https://localhost:8080/"
        },
        "id": "dNPHCaWj0ubm",
        "outputId": "176d5991-9975-45d5-e297-f11dac52e94e"
      },
      "execution_count": null,
      "outputs": [
        {
          "output_type": "stream",
          "name": "stdout",
          "text": [
            "Bias label mappings: {0: 'center', 1: 'left', 2: 'right'}\n"
          ]
        },
        {
          "output_type": "stream",
          "name": "stderr",
          "text": [
            "<ipython-input-12-97ac9e551cff>:3: SettingWithCopyWarning: \n",
            "A value is trying to be set on a copy of a slice from a DataFrame.\n",
            "Try using .loc[row_indexer,col_indexer] = value instead\n",
            "\n",
            "See the caveats in the documentation: https://pandas.pydata.org/pandas-docs/stable/user_guide/indexing.html#returning-a-view-versus-a-copy\n",
            "  df['bias_label'] = label_encoder_bias.fit_transform(df['bias_text'])\n"
          ]
        }
      ]
    },
    {
      "cell_type": "code",
      "source": [
        "# Split the dataset into training, validation, and test sets\n",
        "train_texts, test_texts, train_bias_labels, test_bias_labels = train_test_split(\n",
        "    df['text'], df['bias_label'], test_size=0.2, random_state=42\n",
        ")\n",
        "val_texts, test_texts, val_bias_labels, test_bias_labels = train_test_split(\n",
        "    test_texts, test_bias_labels, test_size=0.5, random_state=42\n",
        ")"
      ],
      "metadata": {
        "id": "AL5frhHR01lL"
      },
      "execution_count": null,
      "outputs": []
    },
    {
      "cell_type": "markdown",
      "source": [
        "This dataset class splits long texts into overlapping chunks during training and handles them during inference."
      ],
      "metadata": {
        "id": "8jE20DVR1DXU"
      }
    },
    {
      "cell_type": "code",
      "source": [
        "class BiasDataset(Dataset):\n",
        "    def __init__(self, texts, labels, tokenizer, max_length=512, overlap=256):\n",
        "        self.texts = texts\n",
        "        self.labels = labels\n",
        "        self.tokenizer = tokenizer\n",
        "        self.max_length = max_length\n",
        "        self.overlap = overlap\n",
        "\n",
        "    def tokenize_and_split(self, text):\n",
        "        # Tokenize without truncation to get full input\n",
        "        tokens = self.tokenizer(text, truncation=False, padding=False)[\"input_ids\"]\n",
        "        # Split into chunks with specified overlap\n",
        "        chunks = [tokens[i:i + self.max_length] for i in range(0, len(tokens), self.max_length - self.overlap)]\n",
        "        return chunks\n",
        "\n",
        "    def __len__(self):\n",
        "        return len(self.texts)\n",
        "\n",
        "    def __getitem__(self, idx):\n",
        "        text = self.texts.iloc[idx]\n",
        "        label = self.labels.iloc[idx]\n",
        "        chunks = self.tokenize_and_split(text)\n",
        "\n",
        "        # Use the first chunk for training; handle multiple chunks during inference\n",
        "        encoding = self.tokenizer(\n",
        "            self.tokenizer.decode(chunks[0], skip_special_tokens=True),\n",
        "            truncation=True,\n",
        "            padding=\"max_length\",\n",
        "            max_length=self.max_length,\n",
        "            return_tensors=\"pt\",\n",
        "        )\n",
        "        return {\n",
        "            \"input_ids\": encoding[\"input_ids\"].squeeze(0),\n",
        "            \"attention_mask\": encoding[\"attention_mask\"].squeeze(0),\n",
        "            \"labels\": torch.tensor(label, dtype=torch.long),\n",
        "        }\n",
        "\n",
        "# Initialize tokenizer\n",
        "tokenizer = DebertaV2Tokenizer.from_pretrained(\"microsoft/deberta-v3-large\")\n",
        "\n",
        "# Create datasets\n",
        "train_dataset = BiasDataset(train_texts, train_bias_labels, tokenizer, max_length=512, overlap=256)\n",
        "val_dataset = BiasDataset(val_texts, val_bias_labels, tokenizer, max_length=512, overlap=256)\n"
      ],
      "metadata": {
        "colab": {
          "base_uri": "https://localhost:8080/",
          "height": 217,
          "referenced_widgets": [
            "b4827b610fc949938cb6f2383b505a0e",
            "0e486ab296f94053a12128b9385355cb",
            "de4e0c280e934d218870c3e9aa0f9ea4",
            "74f4924246f94ae2a5a611a1f6de064c",
            "6dbe84c2edfb489b84d59e6371e6f464",
            "68886bfdac1c45fda6e6c801be0221a7",
            "ea4764cbce554ae78be7522affca36a7",
            "3327a0618d224cdeafc74fcab23b4581",
            "f824b1a8a95643dcafc6410f62712a30",
            "39b002aa03f04a6a984f9fb81bd3434e",
            "6459ef9c58fb4ad4807bf301d7a5cdf8",
            "1a568b82130246809c45f19c9861af4b",
            "3b307c666b544f048a51dc99f2a07574",
            "5095b252cf5e4c81b1a01ce2c54c491b",
            "e965134dd4b34ea48c566f537517e4d0",
            "97c2fbd796ef44f4aed6391e2a172b06",
            "600af345261d47b192f5bb399d5de6ce",
            "33d45b9f80484f97961559a9699e2106",
            "b1d531f3d998482093012581d0e2df84",
            "f793a0636b794c00bad337479b9d56ac",
            "59388c2301f14ada877bd21370fae478",
            "649e2577744c4f17820df32e82bafa2c",
            "84bcb7e4f2e74976a3bff130170ff7cc",
            "fb5cc36b78764e209179e8b35beb36bc",
            "b959bcec6e314384aa2699c6c0876369",
            "20a2b3ffb9aa48929538e9122cc6d1ba",
            "81068bf7c09b4ddebc1af5fe146db8e5",
            "08fb95e97563499684534366be075651",
            "9fa0896e58eb4913825427acf8e3e885",
            "72a4de5d360b4eebb788237e809e5dc3",
            "258f2d4f357a4c6fb50bf09678d249a7",
            "f3af300e2c264c379f87cc0cae1b491b",
            "9b39cfcd017140969982b91b1eac838c"
          ]
        },
        "id": "W5RQkfWv1A5I",
        "outputId": "33811f13-cf35-4d9e-c89c-9a6a31b88f9d"
      },
      "execution_count": null,
      "outputs": [
        {
          "output_type": "stream",
          "name": "stderr",
          "text": [
            "/usr/local/lib/python3.10/dist-packages/huggingface_hub/utils/_auth.py:94: UserWarning: \n",
            "The secret `HF_TOKEN` does not exist in your Colab secrets.\n",
            "To authenticate with the Hugging Face Hub, create a token in your settings tab (https://huggingface.co/settings/tokens), set it as secret in your Google Colab and restart your session.\n",
            "You will be able to reuse this secret in all of your notebooks.\n",
            "Please note that authentication is recommended but still optional to access public models or datasets.\n",
            "  warnings.warn(\n"
          ]
        },
        {
          "output_type": "display_data",
          "data": {
            "text/plain": [
              "tokenizer_config.json:   0%|          | 0.00/52.0 [00:00<?, ?B/s]"
            ],
            "application/vnd.jupyter.widget-view+json": {
              "version_major": 2,
              "version_minor": 0,
              "model_id": "b4827b610fc949938cb6f2383b505a0e"
            }
          },
          "metadata": {}
        },
        {
          "output_type": "display_data",
          "data": {
            "text/plain": [
              "spm.model:   0%|          | 0.00/2.46M [00:00<?, ?B/s]"
            ],
            "application/vnd.jupyter.widget-view+json": {
              "version_major": 2,
              "version_minor": 0,
              "model_id": "1a568b82130246809c45f19c9861af4b"
            }
          },
          "metadata": {}
        },
        {
          "output_type": "display_data",
          "data": {
            "text/plain": [
              "config.json:   0%|          | 0.00/580 [00:00<?, ?B/s]"
            ],
            "application/vnd.jupyter.widget-view+json": {
              "version_major": 2,
              "version_minor": 0,
              "model_id": "84bcb7e4f2e74976a3bff130170ff7cc"
            }
          },
          "metadata": {}
        }
      ]
    },
    {
      "cell_type": "markdown",
      "source": [
        "Training Arguements"
      ],
      "metadata": {
        "id": "-K7GbF7P1WdJ"
      }
    },
    {
      "cell_type": "code",
      "source": [
        "training_args = TrainingArguments(\n",
        "    output_dir=\"/content/drive/My Drive/NLP Project/deberta_bias_results\",\n",
        "    eval_strategy=\"epoch\",\n",
        "    save_strategy=\"epoch\",\n",
        "    learning_rate=2e-5,\n",
        "    per_device_train_batch_size=8,\n",
        "    per_device_eval_batch_size=16,\n",
        "    num_train_epochs=3,\n",
        "    weight_decay=0.01,\n",
        "    logging_dir=\"/content/drive/My Drive/NLP Project/deberta_logs\",\n",
        "    load_best_model_at_end=True,\n",
        "    metric_for_best_model=\"f1\",\n",
        ")\n"
      ],
      "metadata": {
        "id": "elNO1SDd1VvB"
      },
      "execution_count": null,
      "outputs": []
    },
    {
      "cell_type": "code",
      "source": [
        "def compute_metrics(eval_pred):\n",
        "    logits, labels = eval_pred\n",
        "    predictions = np.argmax(logits, axis=-1)\n",
        "    precision, recall, f1, _ = precision_recall_fscore_support(labels, predictions, average=\"weighted\")\n",
        "    acc = accuracy_score(labels, predictions)\n",
        "    return {\"accuracy\": acc, \"f1\": f1, \"precision\": precision, \"recall\": recall}\n"
      ],
      "metadata": {
        "id": "y74OvLy-1tcB"
      },
      "execution_count": null,
      "outputs": []
    },
    {
      "cell_type": "code",
      "source": [
        "def compute_metrics(eval_pred):\n",
        "    logits, labels = eval_pred\n",
        "    predictions = np.argmax(logits, axis=-1)\n",
        "    precision, recall, f1, _ = precision_recall_fscore_support(labels, predictions, average=\"weighted\")\n",
        "    acc = accuracy_score(labels, predictions)\n",
        "    return {\"accuracy\": acc, \"f1\": f1, \"precision\": precision, \"recall\": recall}\n"
      ],
      "metadata": {
        "id": "Xqz4DOyV1z1i"
      },
      "execution_count": null,
      "outputs": []
    },
    {
      "cell_type": "code",
      "source": [
        "model = DebertaV2ForSequenceClassification.from_pretrained(\n",
        "    \"microsoft/deberta-v3-large\", num_labels=len(label_encoder_bias.classes_)\n",
        ")\n"
      ],
      "metadata": {
        "colab": {
          "base_uri": "https://localhost:8080/"
        },
        "id": "DHcK5lqY13G9",
        "outputId": "081cf3db-d273-469e-d7ff-554ab02a0af4"
      },
      "execution_count": null,
      "outputs": [
        {
          "output_type": "stream",
          "name": "stderr",
          "text": [
            "Some weights of DebertaV2ForSequenceClassification were not initialized from the model checkpoint at microsoft/deberta-v3-large and are newly initialized: ['classifier.bias', 'classifier.weight', 'pooler.dense.bias', 'pooler.dense.weight']\n",
            "You should probably TRAIN this model on a down-stream task to be able to use it for predictions and inference.\n"
          ]
        }
      ]
    },
    {
      "cell_type": "markdown",
      "source": [
        "Train the model"
      ],
      "metadata": {
        "id": "SCv1kQCE2PhU"
      }
    },
    {
      "cell_type": "code",
      "source": [
        "trainer = Trainer(\n",
        "    model=model,\n",
        "    args=training_args,\n",
        "    train_dataset=train_dataset,\n",
        "    eval_dataset=val_dataset,\n",
        "    tokenizer=tokenizer,\n",
        "    compute_metrics=compute_metrics,\n",
        ")\n",
        "\n",
        "# Train the model\n",
        "trainer.train()\n",
        "\n",
        "# Save the trained model and tokenizer\n",
        "trainer.save_model(\"/content/drive/My Drive/NLP Project/deberta_bias_model\")\n",
        "tokenizer.save_pretrained(\"/content/drive/My Drive/NLP Project/deberta_bias_model\")\n"
      ],
      "metadata": {
        "colab": {
          "base_uri": "https://localhost:8080/",
          "height": 502
        },
        "id": "xEP54ut22KgT",
        "outputId": "194d7e81-6f02-4653-d44e-87632c4326f0"
      },
      "execution_count": null,
      "outputs": [
        {
          "output_type": "stream",
          "name": "stderr",
          "text": [
            "<ipython-input-22-fe83c54a0721>:1: FutureWarning: `tokenizer` is deprecated and will be removed in version 5.0.0 for `Trainer.__init__`. Use `processing_class` instead.\n",
            "  trainer = Trainer(\n",
            "\u001b[34m\u001b[1mwandb\u001b[0m: \u001b[33mWARNING\u001b[0m The `run_name` is currently set to the same value as `TrainingArguments.output_dir`. If this was not intended, please specify a different run name by setting the `TrainingArguments.run_name` parameter.\n",
            "\u001b[34m\u001b[1mwandb\u001b[0m: Using wandb-core as the SDK backend.  Please refer to https://wandb.me/wandb-core for more information.\n"
          ]
        },
        {
          "output_type": "display_data",
          "data": {
            "text/plain": [
              "<IPython.core.display.Javascript object>"
            ],
            "application/javascript": [
              "\n",
              "        window._wandbApiKey = new Promise((resolve, reject) => {\n",
              "            function loadScript(url) {\n",
              "            return new Promise(function(resolve, reject) {\n",
              "                let newScript = document.createElement(\"script\");\n",
              "                newScript.onerror = reject;\n",
              "                newScript.onload = resolve;\n",
              "                document.body.appendChild(newScript);\n",
              "                newScript.src = url;\n",
              "            });\n",
              "            }\n",
              "            loadScript(\"https://cdn.jsdelivr.net/npm/postmate/build/postmate.min.js\").then(() => {\n",
              "            const iframe = document.createElement('iframe')\n",
              "            iframe.style.cssText = \"width:0;height:0;border:none\"\n",
              "            document.body.appendChild(iframe)\n",
              "            const handshake = new Postmate({\n",
              "                container: iframe,\n",
              "                url: 'https://wandb.ai/authorize'\n",
              "            });\n",
              "            const timeout = setTimeout(() => reject(\"Couldn't auto authenticate\"), 5000)\n",
              "            handshake.then(function(child) {\n",
              "                child.on('authorize', data => {\n",
              "                    clearTimeout(timeout)\n",
              "                    resolve(data)\n",
              "                });\n",
              "            });\n",
              "            })\n",
              "        });\n",
              "    "
            ]
          },
          "metadata": {}
        },
        {
          "output_type": "stream",
          "name": "stderr",
          "text": [
            "\u001b[34m\u001b[1mwandb\u001b[0m: Logging into wandb.ai. (Learn how to deploy a W&B server locally: https://wandb.me/wandb-server)\n",
            "\u001b[34m\u001b[1mwandb\u001b[0m: You can find your API key in your browser here: https://wandb.ai/authorize\n",
            "wandb: Paste an API key from your profile and hit enter, or press ctrl+c to quit:"
          ]
        },
        {
          "name": "stdout",
          "output_type": "stream",
          "text": [
            " ··········\n"
          ]
        },
        {
          "output_type": "stream",
          "name": "stderr",
          "text": [
            "\u001b[34m\u001b[1mwandb\u001b[0m: Appending key for api.wandb.ai to your netrc file: /root/.netrc\n"
          ]
        },
        {
          "output_type": "display_data",
          "data": {
            "text/plain": [
              "<IPython.core.display.HTML object>"
            ],
            "text/html": [
              "Tracking run with wandb version 0.18.7"
            ]
          },
          "metadata": {}
        },
        {
          "output_type": "display_data",
          "data": {
            "text/plain": [
              "<IPython.core.display.HTML object>"
            ],
            "text/html": [
              "Run data is saved locally in <code>/content/wandb/run-20241210_043538-epyfhauh</code>"
            ]
          },
          "metadata": {}
        },
        {
          "output_type": "display_data",
          "data": {
            "text/plain": [
              "<IPython.core.display.HTML object>"
            ],
            "text/html": [
              "Syncing run <strong><a href='https://wandb.ai/mayukh-sen13-rutgers-university/huggingface/runs/epyfhauh' target=\"_blank\">/content/drive/My Drive/NLP Project/deberta_bias_results</a></strong> to <a href='https://wandb.ai/mayukh-sen13-rutgers-university/huggingface' target=\"_blank\">Weights & Biases</a> (<a href='https://wandb.me/developer-guide' target=\"_blank\">docs</a>)<br/>"
            ]
          },
          "metadata": {}
        },
        {
          "output_type": "display_data",
          "data": {
            "text/plain": [
              "<IPython.core.display.HTML object>"
            ],
            "text/html": [
              " View project at <a href='https://wandb.ai/mayukh-sen13-rutgers-university/huggingface' target=\"_blank\">https://wandb.ai/mayukh-sen13-rutgers-university/huggingface</a>"
            ]
          },
          "metadata": {}
        },
        {
          "output_type": "display_data",
          "data": {
            "text/plain": [
              "<IPython.core.display.HTML object>"
            ],
            "text/html": [
              " View run at <a href='https://wandb.ai/mayukh-sen13-rutgers-university/huggingface/runs/epyfhauh' target=\"_blank\">https://wandb.ai/mayukh-sen13-rutgers-university/huggingface/runs/epyfhauh</a>"
            ]
          },
          "metadata": {}
        },
        {
          "output_type": "display_data",
          "data": {
            "text/plain": [
              "<IPython.core.display.HTML object>"
            ],
            "text/html": [
              "\n",
              "    <div>\n",
              "      \n",
              "      <progress value='11268' max='11268' style='width:300px; height:20px; vertical-align: middle;'></progress>\n",
              "      [11268/11268 3:16:19, Epoch 3/3]\n",
              "    </div>\n",
              "    <table border=\"1\" class=\"dataframe\">\n",
              "  <thead>\n",
              " <tr style=\"text-align: left;\">\n",
              "      <th>Epoch</th>\n",
              "      <th>Training Loss</th>\n",
              "      <th>Validation Loss</th>\n",
              "      <th>Accuracy</th>\n",
              "      <th>F1</th>\n",
              "      <th>Precision</th>\n",
              "      <th>Recall</th>\n",
              "    </tr>\n",
              "  </thead>\n",
              "  <tbody>\n",
              "    <tr>\n",
              "      <td>1</td>\n",
              "      <td>0.741600</td>\n",
              "      <td>1.034929</td>\n",
              "      <td>0.427963</td>\n",
              "      <td>0.307978</td>\n",
              "      <td>0.680365</td>\n",
              "      <td>0.427963</td>\n",
              "    </tr>\n",
              "    <tr>\n",
              "      <td>2</td>\n",
              "      <td>0.299300</td>\n",
              "      <td>0.386790</td>\n",
              "      <td>0.892144</td>\n",
              "      <td>0.892064</td>\n",
              "      <td>0.892322</td>\n",
              "      <td>0.892144</td>\n",
              "    </tr>\n",
              "    <tr>\n",
              "      <td>3</td>\n",
              "      <td>0.180700</td>\n",
              "      <td>0.439776</td>\n",
              "      <td>0.897470</td>\n",
              "      <td>0.897938</td>\n",
              "      <td>0.899000</td>\n",
              "      <td>0.897470</td>\n",
              "    </tr>\n",
              "  </tbody>\n",
              "</table><p>"
            ]
          },
          "metadata": {}
        },
        {
          "output_type": "execute_result",
          "data": {
            "text/plain": [
              "('/content/drive/My Drive/NLP Project/deberta_bias_model/tokenizer_config.json',\n",
              " '/content/drive/My Drive/NLP Project/deberta_bias_model/special_tokens_map.json',\n",
              " '/content/drive/My Drive/NLP Project/deberta_bias_model/spm.model',\n",
              " '/content/drive/My Drive/NLP Project/deberta_bias_model/added_tokens.json')"
            ]
          },
          "metadata": {},
          "execution_count": 22
        }
      ]
    },
    {
      "cell_type": "code",
      "source": [
        "def predict_with_aggregation(text, model, tokenizer, max_length=512, overlap=256):\n",
        "    model.eval()\n",
        "    tokens = tokenizer(text, truncation=False, padding=False)[\"input_ids\"]\n",
        "    chunks = [tokens[i:i + max_length] for i in range(0, len(tokens), max_length - overlap)]\n",
        "    predictions = []\n",
        "\n",
        "    for chunk in chunks:\n",
        "        inputs = tokenizer.decode(chunk, skip_special_tokens=True)\n",
        "        inputs = tokenizer(\n",
        "            inputs, return_tensors=\"pt\", truncation=True, padding=\"max_length\", max_length=max_length\n",
        "        )\n",
        "        inputs = {key: val.to(model.device) for key, val in inputs.items()}\n",
        "\n",
        "        with torch.no_grad():\n",
        "            outputs = model(**inputs)\n",
        "            logits = outputs.logits\n",
        "            predictions.append(torch.softmax(logits, dim=-1).cpu().numpy())\n",
        "\n",
        "    # Aggregate probabilities across chunks\n",
        "    aggregated_probs = np.mean(predictions, axis=0)\n",
        "    predicted_class = np.argmax(aggregated_probs)\n",
        "    return predicted_class, aggregated_probs\n"
      ],
      "metadata": {
        "id": "WOYwq5-V3mLi"
      },
      "execution_count": null,
      "outputs": []
    },
    {
      "cell_type": "code",
      "source": [
        "metrics = trainer.evaluate()\n",
        "print(metrics)\n"
      ],
      "metadata": {
        "colab": {
          "base_uri": "https://localhost:8080/",
          "height": 74
        },
        "id": "vKJicS7U3nVr",
        "outputId": "a440719d-51dd-4e98-c7b7-3d69e6e64d08"
      },
      "execution_count": null,
      "outputs": [
        {
          "output_type": "display_data",
          "data": {
            "text/plain": [
              "<IPython.core.display.HTML object>"
            ],
            "text/html": [
              "\n",
              "    <div>\n",
              "      \n",
              "      <progress value='235' max='235' style='width:300px; height:20px; vertical-align: middle;'></progress>\n",
              "      [235/235 03:19]\n",
              "    </div>\n",
              "    "
            ]
          },
          "metadata": {}
        },
        {
          "output_type": "stream",
          "name": "stdout",
          "text": [
            "{'eval_loss': 0.43977606296539307, 'eval_accuracy': 0.8974700399467377, 'eval_f1': 0.8979377702543823, 'eval_precision': 0.8989999193948969, 'eval_recall': 0.8974700399467377, 'eval_runtime': 200.5306, 'eval_samples_per_second': 18.725, 'eval_steps_per_second': 1.172, 'epoch': 3.0}\n"
          ]
        }
      ]
    },
    {
      "cell_type": "code",
      "source": [
        "# Create a dataset object for the test data\n",
        "test_dataset = BiasDataset(test_texts, test_bias_labels, tokenizer, max_length=4096)\n",
        "\n",
        "# Evaluate the model using the test dataset\n",
        "print(\"Evaluating Bias Classification Model...\")\n",
        "#bias_metrics = trainer.evaluate(test_dataset)\n",
        "print(\"Bias Classification Metrics:\", metrics)\n",
        "\n",
        "# Highlight key metrics\n",
        "print(\"\\nBias Classification Metrics (Highlighted):\")\n",
        "print(f\"F1 Score: \\033[92m{metrics['eval_f1']:.4f}\\033[0m\")  # Green color for F1\n",
        "print(f\"Accuracy: \\033[94m{metrics['eval_accuracy']:.4f}\\033[0m\")  # Blue color for Accuracy\n",
        "print(f\"Precision: \\033[93m{metrics['eval_precision']:.4f}\\033[0m\")  # Yellow for Precision\n",
        "print(f\"Recall: \\033[91m{metrics['eval_recall']:.4f}\\033[0m\")  # Red for Recall\n"
      ],
      "metadata": {
        "colab": {
          "base_uri": "https://localhost:8080/"
        },
        "id": "K46giFDh5aSS",
        "outputId": "d6ac67ca-3003-42a3-c043-b9b2bf7274cf"
      },
      "execution_count": 35,
      "outputs": [
        {
          "output_type": "stream",
          "name": "stdout",
          "text": [
            "Evaluating Bias Classification Model...\n",
            "Bias Classification Metrics: {'eval_loss': 0.43977606296539307, 'eval_accuracy': 0.8974700399467377, 'eval_f1': 0.8979377702543823, 'eval_precision': 0.8989999193948969, 'eval_recall': 0.8974700399467377, 'eval_runtime': 200.5306, 'eval_samples_per_second': 18.725, 'eval_steps_per_second': 1.172, 'epoch': 3.0}\n",
            "\n",
            "Bias Classification Metrics (Highlighted):\n",
            "F1 Score: \u001b[92m0.8979\u001b[0m\n",
            "Accuracy: \u001b[94m0.8975\u001b[0m\n",
            "Precision: \u001b[93m0.8990\u001b[0m\n",
            "Recall: \u001b[91m0.8975\u001b[0m\n"
          ]
        }
      ]
    },
    {
      "cell_type": "code",
      "source": [
        "from transformers import DebertaV2ForSequenceClassification, DebertaV2Tokenizer\n",
        "\n",
        "# Define paths to the saved models\n",
        "bias_model_path = \"/content/drive/My Drive/NLP Project/deberta_bias_model\"\n",
        "\n",
        "\n",
        "# Load the models and tokenizer\n",
        "bias_model = DebertaV2ForSequenceClassification.from_pretrained(bias_model_path)\n",
        "tokenizer = DebertaV2Tokenizer.from_pretrained(bias_model_path)  # Use the same tokenizer\n"
      ],
      "metadata": {
        "id": "NaEaydcy5bIg"
      },
      "execution_count": 33,
      "outputs": []
    },
    {
      "cell_type": "code",
      "source": [
        "# Example texts\n",
        "example_texts = [\n",
        "    \"4 ways Trumps mass deportation plans could hurt your finances President-elect Donald Trump has made tougher immigration enforcement a key campaign promise in each of his White House bids. If he follows through on his pledge for mass deportations and tighter immigration policies, it could create a financial burden for many Americans...\"\n",
        "]\n",
        "\n",
        "# Tokenize and predict\n",
        "for text in example_texts:\n",
        "    # Tokenize the input text\n",
        "    inputs = tokenizer(text, return_tensors=\"pt\", padding=True, truncation=True, max_length=512)\n",
        "\n",
        "    # Bias Prediction\n",
        "    with torch.no_grad():\n",
        "        bias_outputs = bias_model(**inputs)\n",
        "        bias_predictions = torch.argmax(bias_outputs.logits, dim=-1).item()\n",
        "    predicted_bias = label_encoder_bias.inverse_transform([bias_predictions])[0]\n",
        "\n",
        "    # Display predictions\n",
        "    print(f\"Text: {text[:200]}...\")  # Truncate long text for display\n",
        "    print(f\"Predicted Bias: {predicted_bias}\")\n",
        "    print(\"-\" * 20)\n"
      ],
      "metadata": {
        "id": "CNSfjrZJ52hu",
        "colab": {
          "base_uri": "https://localhost:8080/"
        },
        "outputId": "afb4c938-e370-440f-ba7e-9d797dbd8dc4"
      },
      "execution_count": 34,
      "outputs": [
        {
          "output_type": "stream",
          "name": "stdout",
          "text": [
            "Text: 4 ways Trumps mass deportation plans could hurt your finances President-elect Donald Trump has made tougher immigration enforcement a key campaign promise in each of his White House bids. If he follow...\n",
            "Predicted Bias: right\n",
            "--------------------\n"
          ]
        }
      ]
    },
    {
      "cell_type": "code",
      "source": [
        "example_texts = [\"US News Joe Rogan explains why liberal media hemorrhaging audiences Youre not accurate youre delusional And people are speaking with their subscriptions and theyre speaking with their purchasing of the Washington Post and their purchasing of the New York Times The conversation kicked off when Rogan 57 brought up Washington Post owner Jeff Bezos divisive October opinion piece The hard truth Americans dont trust the news media in which the billionaire Amazon founder declined to continue the newspapers legacy of endorsing a candidate for president The Washington Post planned to endorse Kamala Harris before Bezos stepped in claiming he move cost the newspaper thousands of subscribers but Rogan theorized it would have lost much more if it stuck to its progressive endorsement Essentially saying that you have to take divergent viewpoints you have to take a bunch of different perspectives we cant just be this leftwing echo chamber and its the reason why the business is faltering he noted The New York Times is suffering from the same leftleaning affliction Rogan argued pointing to a recent factcheck the newspaper published earlier this week on Robert F Kennedy Jrs claim that a popular breakfast cereal contains several artificial ingredients in the United States that are not used in other countriespolitical endorsements create a perception of bias The Gray Lady claimed Kennedy was wrong but admitted the ingredient lists for the USs version of Froot Loops contain a multitude of manmade chemicals that Canadas cereal does not The fact check is so dumb because the fact check says its not correct they have the same ingredients except for these harmful chemicals Rogan seethed adding that the ingredient list clearly included fng dangerous chemicals that are banned in Canada that were trying to get rid of in America So theyre literally saying he was wrong but he was right The popular podcaster theorized the Times went after RFK Jr so ruthlessly because of his close ties to Presidentelect Donald Trump and his nomination to serve as the next health secretary as well as his vocal aversion to vaccines Thats the New York fng Times he continued This is what the New York Times is doing so of course youre gonna hemorrhage subscribers of course Youre crazy youre saying something thats nuts and also What is your motivation Are you trying to eliminate because you lost so much credibility are you trying to kill it all Are you secretly working for the Chinese Like what are you doing Rogan lamented\"]\n",
        "\n",
        "# Tokenize and predict\n",
        "for text in example_texts:\n",
        "    # Tokenize the input text\n",
        "    inputs = tokenizer(text, return_tensors=\"pt\", padding=True, truncation=True, max_length=512)\n",
        "\n",
        "    # Bias Prediction\n",
        "    with torch.no_grad():\n",
        "        bias_outputs = bias_model(**inputs)\n",
        "        bias_predictions = torch.argmax(bias_outputs.logits, dim=-1).item()\n",
        "    predicted_bias = label_encoder_bias.inverse_transform([bias_predictions])[0]\n",
        "\n",
        "    # Display predictions\n",
        "    print(f\"Text: {text[:200]}...\")  # Truncate long text for display\n",
        "    print(f\"Predicted Bias: {predicted_bias}\")\n",
        "    print(\"-\" * 20)"
      ],
      "metadata": {
        "colab": {
          "base_uri": "https://localhost:8080/"
        },
        "id": "yEvkQRj5mQlb",
        "outputId": "f8ad78f0-be70-4981-f8da-274fbc3be8e9"
      },
      "execution_count": 36,
      "outputs": [
        {
          "output_type": "stream",
          "name": "stdout",
          "text": [
            "Text: US News Joe Rogan explains why liberal media hemorrhaging audiences Youre not accurate youre delusional And people are speaking with their subscriptions and theyre speaking with their purchasing of th...\n",
            "Predicted Bias: right\n",
            "--------------------\n"
          ]
        }
      ]
    },
    {
      "cell_type": "code",
      "source": [
        "example_texts = [\"Harris pins the blame on Trump for Supreme Court overturning Roe v Wade Vice President Kamala Harris on Monday pinned blame squarely on Donald Trump for the reversal of Roe v Wade saying the former president is proud that women are silently suffering without a guaranteed right to abortion The previous president expressed his intentions quite clearly And fast forward to just recently says hes proud of what he did Harris told CNNs Laura Coates during an exclusive interview in Wisconsin where the vice president was launching a national tour in support of reproductive rights She said the likely Republican nominee relishes his role in new restrictive abortion laws that have emerged in the aftermath of the high court ruling By inference he is proud that women have been deprived of fundamental freedoms to make decisions about their own body by inference proud that doctors are being penalized and criminalized for providing health care proud that women are silently suffering because they dont have access to the health care they need Harris added So lets understand that the stakes are so very high It was a preview of a central reelection argument in a rematch between Trump and President Joe Biden a contest that will be shadowed by the former presidents multiple courtroom trials including one related to Trumps role in events that led to the January 6 2021 riot at the Capitol The vice president rejected outright Trumps assertions that his legal issues amount to political persecution undertaken by the Biden administration What hes saying is not factual period she said And that would not be new for him would it And Harris said it was imperative Americans remain watchful for signs of democratic erosion in the leadup to this years contest\"]\n",
        "\n",
        "# Tokenize and predict\n",
        "for text in example_texts:\n",
        "    # Tokenize the input text\n",
        "    inputs = tokenizer(text, return_tensors=\"pt\", padding=True, truncation=True, max_length=512)\n",
        "\n",
        "    # Bias Prediction\n",
        "    with torch.no_grad():\n",
        "        bias_outputs = bias_model(**inputs)\n",
        "        bias_predictions = torch.argmax(bias_outputs.logits, dim=-1).item()\n",
        "    predicted_bias = label_encoder_bias.inverse_transform([bias_predictions])[0]\n",
        "\n",
        "    # Display predictions\n",
        "    print(f\"Text: {text[:200]}...\")  # Truncate long text for display\n",
        "    print(f\"Predicted Bias: {predicted_bias}\")\n",
        "    print(\"-\" * 20)"
      ],
      "metadata": {
        "colab": {
          "base_uri": "https://localhost:8080/"
        },
        "id": "7J55Fg7Em1EX",
        "outputId": "f0d8cf9c-b30b-4c4f-abac-e15f4b1322f6"
      },
      "execution_count": 37,
      "outputs": [
        {
          "output_type": "stream",
          "name": "stdout",
          "text": [
            "Text: Harris pins the blame on Trump for Supreme Court overturning Roe v Wade Vice President Kamala Harris on Monday pinned blame squarely on Donald Trump for the reversal of Roe v Wade saying the former pr...\n",
            "Predicted Bias: left\n",
            "--------------------\n"
          ]
        }
      ]
    },
    {
      "cell_type": "code",
      "source": [
        "example_texts=[\"Ruben Amorim said he has inherited a difficult position at Manchester United and described his new side as a massive club but not a massive team. Having racked up 20 top-flight titles, United are English football's most successful club domestically. But their impressive history has not been mirrored by results on the pitch over the last decade. Amorim has arrived at Old Trafford with United, who have not won the title since 2013, in the bottom half of the table. They head into Saturday's game six points behind opponents Nottingham Forest, who were playing in the Championship as recently as 2022. We are a massive club but we are not a massive team and we know it so it is no problem to say it. Our players have to understand that it is a very difficult position. We are not one of the best teams in the league and we have to say and think that clearly but our past, our club, is maybe the best one in the league. So here we have a problem and we have to focus on the little things and little details. Amorim has had little time on the training pitch since taking over from Erik ten Hag because of a packed fixture list. The 39-year-old has been careful to play down expectations while the squad gets to grips with a new tactical set-up. However, he insists one non-negotiable is the amount of effort put in by his players and warned them they had to run like mad dogs if they want to be successful. I think the way we sprint back, the way we sprint forward, the way we fight, we have to be very clear with the team. This is the first point we have to address then the tactical and technical aspects come later. What I see is that they are making an effort and there is a lot of room to improve. Changing that thing you can sometimes say is simple because it is just running but it is something in the head of the players. If you want to win we have to do it. Even with the best starting XI on the planet without running they will not win anything, that is very clear. If we want to win the Premier League we have to run like mad dogs. If not, we are not going to.\"]\n",
        "\n",
        "# Tokenize and predict\n",
        "for text in example_texts:\n",
        "    # Tokenize the input text\n",
        "    inputs = tokenizer(text, return_tensors=\"pt\", padding=True, truncation=True, max_length=512)\n",
        "\n",
        "    # Bias Prediction\n",
        "    with torch.no_grad():\n",
        "        bias_outputs = bias_model(**inputs)\n",
        "        bias_predictions = torch.argmax(bias_outputs.logits, dim=-1).item()\n",
        "    predicted_bias = label_encoder_bias.inverse_transform([bias_predictions])[0]\n",
        "\n",
        "    # Display predictions\n",
        "    print(f\"Text: {text[:200]}...\")  # Truncate long text for display\n",
        "    print(f\"Predicted Bias: {predicted_bias}\")\n",
        "    print(\"-\" * 20)"
      ],
      "metadata": {
        "colab": {
          "base_uri": "https://localhost:8080/"
        },
        "id": "ru49S0j1m9WB",
        "outputId": "01760593-7cdb-48a7-e5bd-928a2381dbf5"
      },
      "execution_count": 40,
      "outputs": [
        {
          "output_type": "stream",
          "name": "stdout",
          "text": [
            "Text: Ruben Amorim said he has inherited a difficult position at Manchester United and described his new side as a massive club but not a massive team. Having racked up 20 top-flight titles, United are Engl...\n",
            "Predicted Bias: center\n",
            "--------------------\n"
          ]
        }
      ]
    }
  ]
}